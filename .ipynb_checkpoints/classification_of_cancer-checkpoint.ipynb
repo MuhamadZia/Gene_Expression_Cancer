{
 "cells": [
  {
   "cell_type": "code",
   "execution_count": 1,
   "id": "f5c8a58b-e08a-4d93-8947-11eb505e98b7",
   "metadata": {},
   "outputs": [],
   "source": [
    "import pandas as pd\n",
    "import numpy as np\n",
    "import matplotlib.pyplot as plt\n",
    "import seaborn as sns"
   ]
  },
  {
   "cell_type": "markdown",
   "id": "894e97df-fa57-40e6-abf7-4f5b55f5a4d4",
   "metadata": {},
   "source": [
    "# Read CSV and Get Information of Data"
   ]
  },
  {
   "cell_type": "code",
   "execution_count": 2,
   "id": "c4ed88a3-9abb-4afc-8fe9-6540ad00496c",
   "metadata": {},
   "outputs": [],
   "source": [
    "train = pd.read_csv('data_set_ALL_AML_train.csv')\n",
    "test = pd.read_csv('data_set_ALL_AML_independent.csv')\n",
    "actual = pd.read_csv('actual.csv')"
   ]
  },
  {
   "cell_type": "code",
   "execution_count": 3,
   "id": "d28c72fd-a630-4f4b-b44a-c9326c3c5964",
   "metadata": {},
   "outputs": [
    {
     "name": "stdout",
     "output_type": "stream",
     "text": [
      "<class 'pandas.core.frame.DataFrame'>\n",
      "RangeIndex: 7129 entries, 0 to 7128\n",
      "Data columns (total 78 columns):\n",
      " #   Column                 Non-Null Count  Dtype \n",
      "---  ------                 --------------  ----- \n",
      " 0   Gene Description       7129 non-null   object\n",
      " 1   Gene Accession Number  7129 non-null   object\n",
      " 2   1                      7129 non-null   int64 \n",
      " 3   call                   7129 non-null   object\n",
      " 4   2                      7129 non-null   int64 \n",
      " 5   call.1                 7129 non-null   object\n",
      " 6   3                      7129 non-null   int64 \n",
      " 7   call.2                 7129 non-null   object\n",
      " 8   4                      7129 non-null   int64 \n",
      " 9   call.3                 7129 non-null   object\n",
      " 10  5                      7129 non-null   int64 \n",
      " 11  call.4                 7129 non-null   object\n",
      " 12  6                      7129 non-null   int64 \n",
      " 13  call.5                 7129 non-null   object\n",
      " 14  7                      7129 non-null   int64 \n",
      " 15  call.6                 7129 non-null   object\n",
      " 16  8                      7129 non-null   int64 \n",
      " 17  call.7                 7129 non-null   object\n",
      " 18  9                      7129 non-null   int64 \n",
      " 19  call.8                 7129 non-null   object\n",
      " 20  10                     7129 non-null   int64 \n",
      " 21  call.9                 7129 non-null   object\n",
      " 22  11                     7129 non-null   int64 \n",
      " 23  call.10                7129 non-null   object\n",
      " 24  12                     7129 non-null   int64 \n",
      " 25  call.11                7129 non-null   object\n",
      " 26  13                     7129 non-null   int64 \n",
      " 27  call.12                7129 non-null   object\n",
      " 28  14                     7129 non-null   int64 \n",
      " 29  call.13                7129 non-null   object\n",
      " 30  15                     7129 non-null   int64 \n",
      " 31  call.14                7129 non-null   object\n",
      " 32  16                     7129 non-null   int64 \n",
      " 33  call.15                7129 non-null   object\n",
      " 34  17                     7129 non-null   int64 \n",
      " 35  call.16                7129 non-null   object\n",
      " 36  18                     7129 non-null   int64 \n",
      " 37  call.17                7129 non-null   object\n",
      " 38  19                     7129 non-null   int64 \n",
      " 39  call.18                7129 non-null   object\n",
      " 40  20                     7129 non-null   int64 \n",
      " 41  call.19                7129 non-null   object\n",
      " 42  21                     7129 non-null   int64 \n",
      " 43  call.20                7129 non-null   object\n",
      " 44  22                     7129 non-null   int64 \n",
      " 45  call.21                7129 non-null   object\n",
      " 46  23                     7129 non-null   int64 \n",
      " 47  call.22                7129 non-null   object\n",
      " 48  24                     7129 non-null   int64 \n",
      " 49  call.23                7129 non-null   object\n",
      " 50  25                     7129 non-null   int64 \n",
      " 51  call.24                7129 non-null   object\n",
      " 52  26                     7129 non-null   int64 \n",
      " 53  call.25                7129 non-null   object\n",
      " 54  27                     7129 non-null   int64 \n",
      " 55  call.26                7129 non-null   object\n",
      " 56  34                     7129 non-null   int64 \n",
      " 57  call.27                7129 non-null   object\n",
      " 58  35                     7129 non-null   int64 \n",
      " 59  call.28                7129 non-null   object\n",
      " 60  36                     7129 non-null   int64 \n",
      " 61  call.29                7129 non-null   object\n",
      " 62  37                     7129 non-null   int64 \n",
      " 63  call.30                7129 non-null   object\n",
      " 64  38                     7129 non-null   int64 \n",
      " 65  call.31                7129 non-null   object\n",
      " 66  28                     7129 non-null   int64 \n",
      " 67  call.32                7129 non-null   object\n",
      " 68  29                     7129 non-null   int64 \n",
      " 69  call.33                7129 non-null   object\n",
      " 70  30                     7129 non-null   int64 \n",
      " 71  call.34                7129 non-null   object\n",
      " 72  31                     7129 non-null   int64 \n",
      " 73  call.35                7129 non-null   object\n",
      " 74  32                     7129 non-null   int64 \n",
      " 75  call.36                7129 non-null   object\n",
      " 76  33                     7129 non-null   int64 \n",
      " 77  call.37                7129 non-null   object\n",
      "dtypes: int64(38), object(40)\n",
      "memory usage: 4.2+ MB\n"
     ]
    }
   ],
   "source": [
    "train.info()"
   ]
  },
  {
   "cell_type": "code",
   "execution_count": 4,
   "id": "f4c9f36f-e44e-4e45-b574-1538da6adf4a",
   "metadata": {},
   "outputs": [
    {
     "name": "stdout",
     "output_type": "stream",
     "text": [
      "<class 'pandas.core.frame.DataFrame'>\n",
      "RangeIndex: 7129 entries, 0 to 7128\n",
      "Data columns (total 70 columns):\n",
      " #   Column                 Non-Null Count  Dtype \n",
      "---  ------                 --------------  ----- \n",
      " 0   Gene Description       7129 non-null   object\n",
      " 1   Gene Accession Number  7129 non-null   object\n",
      " 2   39                     7129 non-null   int64 \n",
      " 3   call                   7129 non-null   object\n",
      " 4   40                     7129 non-null   int64 \n",
      " 5   call.1                 7129 non-null   object\n",
      " 6   42                     7129 non-null   int64 \n",
      " 7   call.2                 7129 non-null   object\n",
      " 8   47                     7129 non-null   int64 \n",
      " 9   call.3                 7129 non-null   object\n",
      " 10  48                     7129 non-null   int64 \n",
      " 11  call.4                 7129 non-null   object\n",
      " 12  49                     7129 non-null   int64 \n",
      " 13  call.5                 7129 non-null   object\n",
      " 14  41                     7129 non-null   int64 \n",
      " 15  call.6                 7129 non-null   object\n",
      " 16  43                     7129 non-null   int64 \n",
      " 17  call.7                 7129 non-null   object\n",
      " 18  44                     7129 non-null   int64 \n",
      " 19  call.8                 7129 non-null   object\n",
      " 20  45                     7129 non-null   int64 \n",
      " 21  call.9                 7129 non-null   object\n",
      " 22  46                     7129 non-null   int64 \n",
      " 23  call.10                7129 non-null   object\n",
      " 24  70                     7129 non-null   int64 \n",
      " 25  call.11                7129 non-null   object\n",
      " 26  71                     7129 non-null   int64 \n",
      " 27  call.12                7129 non-null   object\n",
      " 28  72                     7129 non-null   int64 \n",
      " 29  call.13                7129 non-null   object\n",
      " 30  68                     7129 non-null   int64 \n",
      " 31  call.14                7129 non-null   object\n",
      " 32  69                     7129 non-null   int64 \n",
      " 33  call.15                7129 non-null   object\n",
      " 34  67                     7129 non-null   int64 \n",
      " 35  call.16                7129 non-null   object\n",
      " 36  55                     7129 non-null   int64 \n",
      " 37  call.17                7129 non-null   object\n",
      " 38  56                     7129 non-null   int64 \n",
      " 39  call.18                7129 non-null   object\n",
      " 40  59                     7129 non-null   int64 \n",
      " 41  call.19                7129 non-null   object\n",
      " 42  52                     7129 non-null   int64 \n",
      " 43  call.20                7129 non-null   object\n",
      " 44  53                     7129 non-null   int64 \n",
      " 45  call.21                7129 non-null   object\n",
      " 46  51                     7129 non-null   int64 \n",
      " 47  call.22                7129 non-null   object\n",
      " 48  50                     7129 non-null   int64 \n",
      " 49  call.23                7129 non-null   object\n",
      " 50  54                     7129 non-null   int64 \n",
      " 51  call.24                7129 non-null   object\n",
      " 52  57                     7129 non-null   int64 \n",
      " 53  call.25                7129 non-null   object\n",
      " 54  58                     7129 non-null   int64 \n",
      " 55  call.26                7129 non-null   object\n",
      " 56  60                     7129 non-null   int64 \n",
      " 57  call.27                7129 non-null   object\n",
      " 58  61                     7129 non-null   int64 \n",
      " 59  call.28                7129 non-null   object\n",
      " 60  65                     7129 non-null   int64 \n",
      " 61  call.29                7129 non-null   object\n",
      " 62  66                     7129 non-null   int64 \n",
      " 63  call.30                7129 non-null   object\n",
      " 64  63                     7129 non-null   int64 \n",
      " 65  call.31                7129 non-null   object\n",
      " 66  64                     7129 non-null   int64 \n",
      " 67  call.32                7129 non-null   object\n",
      " 68  62                     7129 non-null   int64 \n",
      " 69  call.33                7129 non-null   object\n",
      "dtypes: int64(34), object(36)\n",
      "memory usage: 3.8+ MB\n"
     ]
    }
   ],
   "source": [
    "test.info()"
   ]
  },
  {
   "cell_type": "code",
   "execution_count": 5,
   "id": "a740d570-aeeb-4534-9865-d7b35307b254",
   "metadata": {},
   "outputs": [
    {
     "name": "stdout",
     "output_type": "stream",
     "text": [
      "<class 'pandas.core.frame.DataFrame'>\n",
      "RangeIndex: 72 entries, 0 to 71\n",
      "Data columns (total 2 columns):\n",
      " #   Column   Non-Null Count  Dtype \n",
      "---  ------   --------------  ----- \n",
      " 0   patient  72 non-null     int64 \n",
      " 1   cancer   72 non-null     object\n",
      "dtypes: int64(1), object(1)\n",
      "memory usage: 1.2+ KB\n"
     ]
    }
   ],
   "source": [
    "actual.info()"
   ]
  },
  {
   "cell_type": "code",
   "execution_count": 6,
   "id": "7daaed3d-2f3d-449f-86e8-12b45059de09",
   "metadata": {},
   "outputs": [
    {
     "data": {
      "text/html": [
       "<div>\n",
       "<style scoped>\n",
       "    .dataframe tbody tr th:only-of-type {\n",
       "        vertical-align: middle;\n",
       "    }\n",
       "\n",
       "    .dataframe tbody tr th {\n",
       "        vertical-align: top;\n",
       "    }\n",
       "\n",
       "    .dataframe thead th {\n",
       "        text-align: right;\n",
       "    }\n",
       "</style>\n",
       "<table border=\"1\" class=\"dataframe\">\n",
       "  <thead>\n",
       "    <tr style=\"text-align: right;\">\n",
       "      <th></th>\n",
       "      <th>Gene Description</th>\n",
       "      <th>Gene Accession Number</th>\n",
       "      <th>1</th>\n",
       "      <th>call</th>\n",
       "      <th>2</th>\n",
       "      <th>call.1</th>\n",
       "      <th>3</th>\n",
       "      <th>call.2</th>\n",
       "      <th>4</th>\n",
       "      <th>call.3</th>\n",
       "      <th>...</th>\n",
       "      <th>29</th>\n",
       "      <th>call.33</th>\n",
       "      <th>30</th>\n",
       "      <th>call.34</th>\n",
       "      <th>31</th>\n",
       "      <th>call.35</th>\n",
       "      <th>32</th>\n",
       "      <th>call.36</th>\n",
       "      <th>33</th>\n",
       "      <th>call.37</th>\n",
       "    </tr>\n",
       "  </thead>\n",
       "  <tbody>\n",
       "    <tr>\n",
       "      <th>0</th>\n",
       "      <td>AFFX-BioB-5_at (endogenous control)</td>\n",
       "      <td>AFFX-BioB-5_at</td>\n",
       "      <td>-214</td>\n",
       "      <td>A</td>\n",
       "      <td>-139</td>\n",
       "      <td>A</td>\n",
       "      <td>-76</td>\n",
       "      <td>A</td>\n",
       "      <td>-135</td>\n",
       "      <td>A</td>\n",
       "      <td>...</td>\n",
       "      <td>15</td>\n",
       "      <td>A</td>\n",
       "      <td>-318</td>\n",
       "      <td>A</td>\n",
       "      <td>-32</td>\n",
       "      <td>A</td>\n",
       "      <td>-124</td>\n",
       "      <td>A</td>\n",
       "      <td>-135</td>\n",
       "      <td>A</td>\n",
       "    </tr>\n",
       "    <tr>\n",
       "      <th>1</th>\n",
       "      <td>AFFX-BioB-M_at (endogenous control)</td>\n",
       "      <td>AFFX-BioB-M_at</td>\n",
       "      <td>-153</td>\n",
       "      <td>A</td>\n",
       "      <td>-73</td>\n",
       "      <td>A</td>\n",
       "      <td>-49</td>\n",
       "      <td>A</td>\n",
       "      <td>-114</td>\n",
       "      <td>A</td>\n",
       "      <td>...</td>\n",
       "      <td>-114</td>\n",
       "      <td>A</td>\n",
       "      <td>-192</td>\n",
       "      <td>A</td>\n",
       "      <td>-49</td>\n",
       "      <td>A</td>\n",
       "      <td>-79</td>\n",
       "      <td>A</td>\n",
       "      <td>-186</td>\n",
       "      <td>A</td>\n",
       "    </tr>\n",
       "    <tr>\n",
       "      <th>2</th>\n",
       "      <td>AFFX-BioB-3_at (endogenous control)</td>\n",
       "      <td>AFFX-BioB-3_at</td>\n",
       "      <td>-58</td>\n",
       "      <td>A</td>\n",
       "      <td>-1</td>\n",
       "      <td>A</td>\n",
       "      <td>-307</td>\n",
       "      <td>A</td>\n",
       "      <td>265</td>\n",
       "      <td>A</td>\n",
       "      <td>...</td>\n",
       "      <td>2</td>\n",
       "      <td>A</td>\n",
       "      <td>-95</td>\n",
       "      <td>A</td>\n",
       "      <td>49</td>\n",
       "      <td>A</td>\n",
       "      <td>-37</td>\n",
       "      <td>A</td>\n",
       "      <td>-70</td>\n",
       "      <td>A</td>\n",
       "    </tr>\n",
       "    <tr>\n",
       "      <th>3</th>\n",
       "      <td>AFFX-BioC-5_at (endogenous control)</td>\n",
       "      <td>AFFX-BioC-5_at</td>\n",
       "      <td>88</td>\n",
       "      <td>A</td>\n",
       "      <td>283</td>\n",
       "      <td>A</td>\n",
       "      <td>309</td>\n",
       "      <td>A</td>\n",
       "      <td>12</td>\n",
       "      <td>A</td>\n",
       "      <td>...</td>\n",
       "      <td>193</td>\n",
       "      <td>A</td>\n",
       "      <td>312</td>\n",
       "      <td>A</td>\n",
       "      <td>230</td>\n",
       "      <td>P</td>\n",
       "      <td>330</td>\n",
       "      <td>A</td>\n",
       "      <td>337</td>\n",
       "      <td>A</td>\n",
       "    </tr>\n",
       "    <tr>\n",
       "      <th>4</th>\n",
       "      <td>AFFX-BioC-3_at (endogenous control)</td>\n",
       "      <td>AFFX-BioC-3_at</td>\n",
       "      <td>-295</td>\n",
       "      <td>A</td>\n",
       "      <td>-264</td>\n",
       "      <td>A</td>\n",
       "      <td>-376</td>\n",
       "      <td>A</td>\n",
       "      <td>-419</td>\n",
       "      <td>A</td>\n",
       "      <td>...</td>\n",
       "      <td>-51</td>\n",
       "      <td>A</td>\n",
       "      <td>-139</td>\n",
       "      <td>A</td>\n",
       "      <td>-367</td>\n",
       "      <td>A</td>\n",
       "      <td>-188</td>\n",
       "      <td>A</td>\n",
       "      <td>-407</td>\n",
       "      <td>A</td>\n",
       "    </tr>\n",
       "  </tbody>\n",
       "</table>\n",
       "<p>5 rows × 78 columns</p>\n",
       "</div>"
      ],
      "text/plain": [
       "                      Gene Description Gene Accession Number    1 call    2  \\\n",
       "0  AFFX-BioB-5_at (endogenous control)        AFFX-BioB-5_at -214    A -139   \n",
       "1  AFFX-BioB-M_at (endogenous control)        AFFX-BioB-M_at -153    A  -73   \n",
       "2  AFFX-BioB-3_at (endogenous control)        AFFX-BioB-3_at  -58    A   -1   \n",
       "3  AFFX-BioC-5_at (endogenous control)        AFFX-BioC-5_at   88    A  283   \n",
       "4  AFFX-BioC-3_at (endogenous control)        AFFX-BioC-3_at -295    A -264   \n",
       "\n",
       "  call.1    3 call.2    4 call.3  ...   29 call.33   30 call.34   31 call.35  \\\n",
       "0      A  -76      A -135      A  ...   15       A -318       A  -32       A   \n",
       "1      A  -49      A -114      A  ... -114       A -192       A  -49       A   \n",
       "2      A -307      A  265      A  ...    2       A  -95       A   49       A   \n",
       "3      A  309      A   12      A  ...  193       A  312       A  230       P   \n",
       "4      A -376      A -419      A  ...  -51       A -139       A -367       A   \n",
       "\n",
       "    32 call.36   33 call.37  \n",
       "0 -124       A -135       A  \n",
       "1  -79       A -186       A  \n",
       "2  -37       A  -70       A  \n",
       "3  330       A  337       A  \n",
       "4 -188       A -407       A  \n",
       "\n",
       "[5 rows x 78 columns]"
      ]
     },
     "execution_count": 6,
     "metadata": {},
     "output_type": "execute_result"
    }
   ],
   "source": [
    "train.head()"
   ]
  },
  {
   "cell_type": "markdown",
   "id": "27fdc0be-ed9d-4d92-b449-d920a4ae1f09",
   "metadata": {},
   "source": [
    "# Data Preparation"
   ]
  },
  {
   "cell_type": "code",
   "execution_count": 7,
   "id": "e3f02828-ffde-4b23-9c58-c578837460aa",
   "metadata": {},
   "outputs": [
    {
     "data": {
      "text/plain": [
       "0"
      ]
     },
     "execution_count": 7,
     "metadata": {},
     "output_type": "execute_result"
    }
   ],
   "source": [
    "train.isnull().sum().sum()"
   ]
  },
  {
   "cell_type": "code",
   "execution_count": 8,
   "id": "e5f3c986-7012-42b0-8f4b-d90e407301fe",
   "metadata": {},
   "outputs": [
    {
     "data": {
      "text/plain": [
       "0"
      ]
     },
     "execution_count": 8,
     "metadata": {},
     "output_type": "execute_result"
    }
   ],
   "source": [
    "test.isnull().sum().sum()"
   ]
  },
  {
   "cell_type": "code",
   "execution_count": 9,
   "id": "a9905546-5b52-4ddc-936c-12b61fe020d0",
   "metadata": {},
   "outputs": [],
   "source": [
    "cols_del_train = [col for col in train.columns if 'call' in col]\n",
    "cols_del_test = [col for col in test.columns if 'call' in col]"
   ]
  },
  {
   "cell_type": "code",
   "execution_count": 10,
   "id": "900d0f42-92fc-42be-9cf1-bfd9b6f32af3",
   "metadata": {},
   "outputs": [
    {
     "data": {
      "text/html": [
       "<div>\n",
       "<style scoped>\n",
       "    .dataframe tbody tr th:only-of-type {\n",
       "        vertical-align: middle;\n",
       "    }\n",
       "\n",
       "    .dataframe tbody tr th {\n",
       "        vertical-align: top;\n",
       "    }\n",
       "\n",
       "    .dataframe thead th {\n",
       "        text-align: right;\n",
       "    }\n",
       "</style>\n",
       "<table border=\"1\" class=\"dataframe\">\n",
       "  <thead>\n",
       "    <tr style=\"text-align: right;\">\n",
       "      <th></th>\n",
       "      <th>Gene Description</th>\n",
       "      <th>Gene Accession Number</th>\n",
       "      <th>1</th>\n",
       "      <th>2</th>\n",
       "      <th>3</th>\n",
       "      <th>4</th>\n",
       "      <th>5</th>\n",
       "      <th>6</th>\n",
       "      <th>7</th>\n",
       "      <th>8</th>\n",
       "      <th>...</th>\n",
       "      <th>35</th>\n",
       "      <th>36</th>\n",
       "      <th>37</th>\n",
       "      <th>38</th>\n",
       "      <th>28</th>\n",
       "      <th>29</th>\n",
       "      <th>30</th>\n",
       "      <th>31</th>\n",
       "      <th>32</th>\n",
       "      <th>33</th>\n",
       "    </tr>\n",
       "  </thead>\n",
       "  <tbody>\n",
       "    <tr>\n",
       "      <th>0</th>\n",
       "      <td>AFFX-BioB-5_at (endogenous control)</td>\n",
       "      <td>AFFX-BioB-5_at</td>\n",
       "      <td>-214</td>\n",
       "      <td>-139</td>\n",
       "      <td>-76</td>\n",
       "      <td>-135</td>\n",
       "      <td>-106</td>\n",
       "      <td>-138</td>\n",
       "      <td>-72</td>\n",
       "      <td>-413</td>\n",
       "      <td>...</td>\n",
       "      <td>7</td>\n",
       "      <td>-213</td>\n",
       "      <td>-25</td>\n",
       "      <td>-72</td>\n",
       "      <td>-4</td>\n",
       "      <td>15</td>\n",
       "      <td>-318</td>\n",
       "      <td>-32</td>\n",
       "      <td>-124</td>\n",
       "      <td>-135</td>\n",
       "    </tr>\n",
       "    <tr>\n",
       "      <th>1</th>\n",
       "      <td>AFFX-BioB-M_at (endogenous control)</td>\n",
       "      <td>AFFX-BioB-M_at</td>\n",
       "      <td>-153</td>\n",
       "      <td>-73</td>\n",
       "      <td>-49</td>\n",
       "      <td>-114</td>\n",
       "      <td>-125</td>\n",
       "      <td>-85</td>\n",
       "      <td>-144</td>\n",
       "      <td>-260</td>\n",
       "      <td>...</td>\n",
       "      <td>-100</td>\n",
       "      <td>-252</td>\n",
       "      <td>-20</td>\n",
       "      <td>-139</td>\n",
       "      <td>-116</td>\n",
       "      <td>-114</td>\n",
       "      <td>-192</td>\n",
       "      <td>-49</td>\n",
       "      <td>-79</td>\n",
       "      <td>-186</td>\n",
       "    </tr>\n",
       "    <tr>\n",
       "      <th>2</th>\n",
       "      <td>AFFX-BioB-3_at (endogenous control)</td>\n",
       "      <td>AFFX-BioB-3_at</td>\n",
       "      <td>-58</td>\n",
       "      <td>-1</td>\n",
       "      <td>-307</td>\n",
       "      <td>265</td>\n",
       "      <td>-76</td>\n",
       "      <td>215</td>\n",
       "      <td>238</td>\n",
       "      <td>7</td>\n",
       "      <td>...</td>\n",
       "      <td>-57</td>\n",
       "      <td>136</td>\n",
       "      <td>124</td>\n",
       "      <td>-1</td>\n",
       "      <td>-125</td>\n",
       "      <td>2</td>\n",
       "      <td>-95</td>\n",
       "      <td>49</td>\n",
       "      <td>-37</td>\n",
       "      <td>-70</td>\n",
       "    </tr>\n",
       "    <tr>\n",
       "      <th>3</th>\n",
       "      <td>AFFX-BioC-5_at (endogenous control)</td>\n",
       "      <td>AFFX-BioC-5_at</td>\n",
       "      <td>88</td>\n",
       "      <td>283</td>\n",
       "      <td>309</td>\n",
       "      <td>12</td>\n",
       "      <td>168</td>\n",
       "      <td>71</td>\n",
       "      <td>55</td>\n",
       "      <td>-2</td>\n",
       "      <td>...</td>\n",
       "      <td>132</td>\n",
       "      <td>318</td>\n",
       "      <td>325</td>\n",
       "      <td>392</td>\n",
       "      <td>241</td>\n",
       "      <td>193</td>\n",
       "      <td>312</td>\n",
       "      <td>230</td>\n",
       "      <td>330</td>\n",
       "      <td>337</td>\n",
       "    </tr>\n",
       "    <tr>\n",
       "      <th>4</th>\n",
       "      <td>AFFX-BioC-3_at (endogenous control)</td>\n",
       "      <td>AFFX-BioC-3_at</td>\n",
       "      <td>-295</td>\n",
       "      <td>-264</td>\n",
       "      <td>-376</td>\n",
       "      <td>-419</td>\n",
       "      <td>-230</td>\n",
       "      <td>-272</td>\n",
       "      <td>-399</td>\n",
       "      <td>-541</td>\n",
       "      <td>...</td>\n",
       "      <td>-377</td>\n",
       "      <td>-209</td>\n",
       "      <td>-396</td>\n",
       "      <td>-324</td>\n",
       "      <td>-191</td>\n",
       "      <td>-51</td>\n",
       "      <td>-139</td>\n",
       "      <td>-367</td>\n",
       "      <td>-188</td>\n",
       "      <td>-407</td>\n",
       "    </tr>\n",
       "  </tbody>\n",
       "</table>\n",
       "<p>5 rows × 40 columns</p>\n",
       "</div>"
      ],
      "text/plain": [
       "                      Gene Description Gene Accession Number    1    2    3  \\\n",
       "0  AFFX-BioB-5_at (endogenous control)        AFFX-BioB-5_at -214 -139  -76   \n",
       "1  AFFX-BioB-M_at (endogenous control)        AFFX-BioB-M_at -153  -73  -49   \n",
       "2  AFFX-BioB-3_at (endogenous control)        AFFX-BioB-3_at  -58   -1 -307   \n",
       "3  AFFX-BioC-5_at (endogenous control)        AFFX-BioC-5_at   88  283  309   \n",
       "4  AFFX-BioC-3_at (endogenous control)        AFFX-BioC-3_at -295 -264 -376   \n",
       "\n",
       "     4    5    6    7    8  ...   35   36   37   38   28   29   30   31   32  \\\n",
       "0 -135 -106 -138  -72 -413  ...    7 -213  -25  -72   -4   15 -318  -32 -124   \n",
       "1 -114 -125  -85 -144 -260  ... -100 -252  -20 -139 -116 -114 -192  -49  -79   \n",
       "2  265  -76  215  238    7  ...  -57  136  124   -1 -125    2  -95   49  -37   \n",
       "3   12  168   71   55   -2  ...  132  318  325  392  241  193  312  230  330   \n",
       "4 -419 -230 -272 -399 -541  ... -377 -209 -396 -324 -191  -51 -139 -367 -188   \n",
       "\n",
       "    33  \n",
       "0 -135  \n",
       "1 -186  \n",
       "2  -70  \n",
       "3  337  \n",
       "4 -407  \n",
       "\n",
       "[5 rows x 40 columns]"
      ]
     },
     "execution_count": 10,
     "metadata": {},
     "output_type": "execute_result"
    }
   ],
   "source": [
    "train_rmvCol = train.copy()\n",
    "train_rmvCol = train_rmvCol.drop(columns=cols_del_train)\n",
    "train_rmvCol.head()"
   ]
  },
  {
   "cell_type": "code",
   "execution_count": 11,
   "id": "a9c93595-22a1-468c-bd1b-c4be52535f0c",
   "metadata": {},
   "outputs": [
    {
     "data": {
      "text/html": [
       "<div>\n",
       "<style scoped>\n",
       "    .dataframe tbody tr th:only-of-type {\n",
       "        vertical-align: middle;\n",
       "    }\n",
       "\n",
       "    .dataframe tbody tr th {\n",
       "        vertical-align: top;\n",
       "    }\n",
       "\n",
       "    .dataframe thead th {\n",
       "        text-align: right;\n",
       "    }\n",
       "</style>\n",
       "<table border=\"1\" class=\"dataframe\">\n",
       "  <thead>\n",
       "    <tr style=\"text-align: right;\">\n",
       "      <th></th>\n",
       "      <th>Gene Description</th>\n",
       "      <th>Gene Accession Number</th>\n",
       "      <th>39</th>\n",
       "      <th>40</th>\n",
       "      <th>42</th>\n",
       "      <th>47</th>\n",
       "      <th>48</th>\n",
       "      <th>49</th>\n",
       "      <th>41</th>\n",
       "      <th>43</th>\n",
       "      <th>...</th>\n",
       "      <th>54</th>\n",
       "      <th>57</th>\n",
       "      <th>58</th>\n",
       "      <th>60</th>\n",
       "      <th>61</th>\n",
       "      <th>65</th>\n",
       "      <th>66</th>\n",
       "      <th>63</th>\n",
       "      <th>64</th>\n",
       "      <th>62</th>\n",
       "    </tr>\n",
       "  </thead>\n",
       "  <tbody>\n",
       "    <tr>\n",
       "      <th>0</th>\n",
       "      <td>AFFX-BioB-5_at (endogenous control)</td>\n",
       "      <td>AFFX-BioB-5_at</td>\n",
       "      <td>-342</td>\n",
       "      <td>-87</td>\n",
       "      <td>22</td>\n",
       "      <td>-243</td>\n",
       "      <td>-130</td>\n",
       "      <td>-256</td>\n",
       "      <td>-62</td>\n",
       "      <td>86</td>\n",
       "      <td>...</td>\n",
       "      <td>-90</td>\n",
       "      <td>-137</td>\n",
       "      <td>-157</td>\n",
       "      <td>-172</td>\n",
       "      <td>-47</td>\n",
       "      <td>-62</td>\n",
       "      <td>-58</td>\n",
       "      <td>-161</td>\n",
       "      <td>-48</td>\n",
       "      <td>-176</td>\n",
       "    </tr>\n",
       "    <tr>\n",
       "      <th>1</th>\n",
       "      <td>AFFX-BioB-M_at (endogenous control)</td>\n",
       "      <td>AFFX-BioB-M_at</td>\n",
       "      <td>-200</td>\n",
       "      <td>-248</td>\n",
       "      <td>-153</td>\n",
       "      <td>-218</td>\n",
       "      <td>-177</td>\n",
       "      <td>-249</td>\n",
       "      <td>-23</td>\n",
       "      <td>-36</td>\n",
       "      <td>...</td>\n",
       "      <td>-87</td>\n",
       "      <td>-51</td>\n",
       "      <td>-370</td>\n",
       "      <td>-122</td>\n",
       "      <td>-442</td>\n",
       "      <td>-198</td>\n",
       "      <td>-217</td>\n",
       "      <td>-215</td>\n",
       "      <td>-531</td>\n",
       "      <td>-284</td>\n",
       "    </tr>\n",
       "    <tr>\n",
       "      <th>2</th>\n",
       "      <td>AFFX-BioB-3_at (endogenous control)</td>\n",
       "      <td>AFFX-BioB-3_at</td>\n",
       "      <td>41</td>\n",
       "      <td>262</td>\n",
       "      <td>17</td>\n",
       "      <td>-163</td>\n",
       "      <td>-28</td>\n",
       "      <td>-410</td>\n",
       "      <td>-7</td>\n",
       "      <td>-141</td>\n",
       "      <td>...</td>\n",
       "      <td>102</td>\n",
       "      <td>-82</td>\n",
       "      <td>-77</td>\n",
       "      <td>38</td>\n",
       "      <td>-21</td>\n",
       "      <td>-5</td>\n",
       "      <td>63</td>\n",
       "      <td>-46</td>\n",
       "      <td>-124</td>\n",
       "      <td>-81</td>\n",
       "    </tr>\n",
       "    <tr>\n",
       "      <th>3</th>\n",
       "      <td>AFFX-BioC-5_at (endogenous control)</td>\n",
       "      <td>AFFX-BioC-5_at</td>\n",
       "      <td>328</td>\n",
       "      <td>295</td>\n",
       "      <td>276</td>\n",
       "      <td>182</td>\n",
       "      <td>266</td>\n",
       "      <td>24</td>\n",
       "      <td>142</td>\n",
       "      <td>252</td>\n",
       "      <td>...</td>\n",
       "      <td>319</td>\n",
       "      <td>178</td>\n",
       "      <td>340</td>\n",
       "      <td>31</td>\n",
       "      <td>396</td>\n",
       "      <td>141</td>\n",
       "      <td>95</td>\n",
       "      <td>146</td>\n",
       "      <td>431</td>\n",
       "      <td>9</td>\n",
       "    </tr>\n",
       "    <tr>\n",
       "      <th>4</th>\n",
       "      <td>AFFX-BioC-3_at (endogenous control)</td>\n",
       "      <td>AFFX-BioC-3_at</td>\n",
       "      <td>-224</td>\n",
       "      <td>-226</td>\n",
       "      <td>-211</td>\n",
       "      <td>-289</td>\n",
       "      <td>-170</td>\n",
       "      <td>-535</td>\n",
       "      <td>-233</td>\n",
       "      <td>-201</td>\n",
       "      <td>...</td>\n",
       "      <td>-283</td>\n",
       "      <td>-135</td>\n",
       "      <td>-438</td>\n",
       "      <td>-201</td>\n",
       "      <td>-351</td>\n",
       "      <td>-256</td>\n",
       "      <td>-191</td>\n",
       "      <td>-172</td>\n",
       "      <td>-496</td>\n",
       "      <td>-294</td>\n",
       "    </tr>\n",
       "  </tbody>\n",
       "</table>\n",
       "<p>5 rows × 36 columns</p>\n",
       "</div>"
      ],
      "text/plain": [
       "                      Gene Description Gene Accession Number   39   40   42  \\\n",
       "0  AFFX-BioB-5_at (endogenous control)        AFFX-BioB-5_at -342  -87   22   \n",
       "1  AFFX-BioB-M_at (endogenous control)        AFFX-BioB-M_at -200 -248 -153   \n",
       "2  AFFX-BioB-3_at (endogenous control)        AFFX-BioB-3_at   41  262   17   \n",
       "3  AFFX-BioC-5_at (endogenous control)        AFFX-BioC-5_at  328  295  276   \n",
       "4  AFFX-BioC-3_at (endogenous control)        AFFX-BioC-3_at -224 -226 -211   \n",
       "\n",
       "    47   48   49   41   43  ...   54   57   58   60   61   65   66   63   64  \\\n",
       "0 -243 -130 -256  -62   86  ...  -90 -137 -157 -172  -47  -62  -58 -161  -48   \n",
       "1 -218 -177 -249  -23  -36  ...  -87  -51 -370 -122 -442 -198 -217 -215 -531   \n",
       "2 -163  -28 -410   -7 -141  ...  102  -82  -77   38  -21   -5   63  -46 -124   \n",
       "3  182  266   24  142  252  ...  319  178  340   31  396  141   95  146  431   \n",
       "4 -289 -170 -535 -233 -201  ... -283 -135 -438 -201 -351 -256 -191 -172 -496   \n",
       "\n",
       "    62  \n",
       "0 -176  \n",
       "1 -284  \n",
       "2  -81  \n",
       "3    9  \n",
       "4 -294  \n",
       "\n",
       "[5 rows x 36 columns]"
      ]
     },
     "execution_count": 11,
     "metadata": {},
     "output_type": "execute_result"
    }
   ],
   "source": [
    "test_rmvCol = test.copy()\n",
    "test_rmvCol = test_rmvCol.drop(columns=cols_del_test)\n",
    "test_rmvCol.head()"
   ]
  },
  {
   "cell_type": "code",
   "execution_count": 12,
   "id": "1ffa107b-8740-40d6-9aa0-3391069eb508",
   "metadata": {},
   "outputs": [
    {
     "data": {
      "text/plain": [
       "Index(['1', '2', '3', '4', '5', '6', '7', '8', '9', '10', '11', '12', '13',\n",
       "       '14', '15', '16', '17', '18', '19', '20', '21', '22', '23', '24', '25',\n",
       "       '26', '27', '34', '35', '36', '37', '38', '28', '29', '30', '31', '32',\n",
       "       '33'],\n",
       "      dtype='object')"
      ]
     },
     "execution_count": 12,
     "metadata": {},
     "output_type": "execute_result"
    }
   ],
   "source": [
    "cols_train = train_rmvCol.columns.copy()\n",
    "cols_train = cols_train.delete([0,1])\n",
    "cols_train"
   ]
  },
  {
   "cell_type": "code",
   "execution_count": 13,
   "id": "bfe6c2f4-726c-46e9-9e72-d5c62a1fe3d4",
   "metadata": {},
   "outputs": [
    {
     "data": {
      "text/plain": [
       "Index(['Gene Description', 'Gene Accession Number', '39', '40', '42', '47',\n",
       "       '48', '49', '41', '43', '44', '45', '46', '70', '71', '72', '68', '69',\n",
       "       '67', '55', '56', '59', '52', '53', '51', '50', '54', '57', '58', '60',\n",
       "       '61', '65', '66', '63', '64', '62'],\n",
       "      dtype='object')"
      ]
     },
     "execution_count": 13,
     "metadata": {},
     "output_type": "execute_result"
    }
   ],
   "source": [
    "test_rmvCol.columns"
   ]
  },
  {
   "cell_type": "code",
   "execution_count": 14,
   "id": "490372b2-0831-4b95-85fe-eee41f11e9ab",
   "metadata": {},
   "outputs": [
    {
     "data": {
      "text/plain": [
       "Index(['39', '40', '42', '47', '48', '49', '41', '43', '44', '45', '46', '70',\n",
       "       '71', '72', '68', '69', '67', '55', '56', '59', '52', '53', '51', '50',\n",
       "       '54', '57', '58', '60', '61', '65', '66', '63', '64', '62'],\n",
       "      dtype='object')"
      ]
     },
     "execution_count": 14,
     "metadata": {},
     "output_type": "execute_result"
    }
   ],
   "source": [
    "cols_test = test_rmvCol.columns.copy()\n",
    "cols_test = cols_test.delete([0,1])\n",
    "cols_test"
   ]
  },
  {
   "cell_type": "code",
   "execution_count": 15,
   "id": "a868d437-13ac-4f9f-9d4a-dcbedd848144",
   "metadata": {},
   "outputs": [
    {
     "data": {
      "text/plain": [
       "72"
      ]
     },
     "execution_count": 15,
     "metadata": {},
     "output_type": "execute_result"
    }
   ],
   "source": [
    "len(train_rmvCol.columns) + len(test_rmvCol.columns) - 4"
   ]
  },
  {
   "cell_type": "code",
   "execution_count": 16,
   "id": "f7af1677-2158-425e-8eb2-8d1e96ff5047",
   "metadata": {},
   "outputs": [
    {
     "data": {
      "text/plain": [
       "((7129, 78), (7129, 70), (72, 2))"
      ]
     },
     "execution_count": 16,
     "metadata": {},
     "output_type": "execute_result"
    }
   ],
   "source": [
    "train.shape, test.shape, actual.shape"
   ]
  },
  {
   "cell_type": "code",
   "execution_count": 17,
   "id": "23bba997-ff73-46b3-8ff1-24226ed14106",
   "metadata": {},
   "outputs": [
    {
     "data": {
      "text/html": [
       "<div>\n",
       "<style scoped>\n",
       "    .dataframe tbody tr th:only-of-type {\n",
       "        vertical-align: middle;\n",
       "    }\n",
       "\n",
       "    .dataframe tbody tr th {\n",
       "        vertical-align: top;\n",
       "    }\n",
       "\n",
       "    .dataframe thead th {\n",
       "        text-align: right;\n",
       "    }\n",
       "</style>\n",
       "<table border=\"1\" class=\"dataframe\">\n",
       "  <thead>\n",
       "    <tr style=\"text-align: right;\">\n",
       "      <th></th>\n",
       "      <th>0</th>\n",
       "      <th>1</th>\n",
       "      <th>2</th>\n",
       "      <th>3</th>\n",
       "      <th>4</th>\n",
       "      <th>5</th>\n",
       "      <th>6</th>\n",
       "      <th>7</th>\n",
       "      <th>8</th>\n",
       "      <th>9</th>\n",
       "      <th>...</th>\n",
       "      <th>7120</th>\n",
       "      <th>7121</th>\n",
       "      <th>7122</th>\n",
       "      <th>7123</th>\n",
       "      <th>7124</th>\n",
       "      <th>7125</th>\n",
       "      <th>7126</th>\n",
       "      <th>7127</th>\n",
       "      <th>7128</th>\n",
       "      <th>patient</th>\n",
       "    </tr>\n",
       "  </thead>\n",
       "  <tbody>\n",
       "    <tr>\n",
       "      <th>1</th>\n",
       "      <td>-214</td>\n",
       "      <td>-153</td>\n",
       "      <td>-58</td>\n",
       "      <td>88</td>\n",
       "      <td>-295</td>\n",
       "      <td>-558</td>\n",
       "      <td>199</td>\n",
       "      <td>-176</td>\n",
       "      <td>252</td>\n",
       "      <td>206</td>\n",
       "      <td>...</td>\n",
       "      <td>511</td>\n",
       "      <td>-125</td>\n",
       "      <td>389</td>\n",
       "      <td>-37</td>\n",
       "      <td>793</td>\n",
       "      <td>329</td>\n",
       "      <td>36</td>\n",
       "      <td>191</td>\n",
       "      <td>-37</td>\n",
       "      <td>1</td>\n",
       "    </tr>\n",
       "    <tr>\n",
       "      <th>2</th>\n",
       "      <td>-139</td>\n",
       "      <td>-73</td>\n",
       "      <td>-1</td>\n",
       "      <td>283</td>\n",
       "      <td>-264</td>\n",
       "      <td>-400</td>\n",
       "      <td>-330</td>\n",
       "      <td>-168</td>\n",
       "      <td>101</td>\n",
       "      <td>74</td>\n",
       "      <td>...</td>\n",
       "      <td>837</td>\n",
       "      <td>-36</td>\n",
       "      <td>442</td>\n",
       "      <td>-17</td>\n",
       "      <td>782</td>\n",
       "      <td>295</td>\n",
       "      <td>11</td>\n",
       "      <td>76</td>\n",
       "      <td>-14</td>\n",
       "      <td>2</td>\n",
       "    </tr>\n",
       "    <tr>\n",
       "      <th>3</th>\n",
       "      <td>-76</td>\n",
       "      <td>-49</td>\n",
       "      <td>-307</td>\n",
       "      <td>309</td>\n",
       "      <td>-376</td>\n",
       "      <td>-650</td>\n",
       "      <td>33</td>\n",
       "      <td>-367</td>\n",
       "      <td>206</td>\n",
       "      <td>-215</td>\n",
       "      <td>...</td>\n",
       "      <td>1199</td>\n",
       "      <td>33</td>\n",
       "      <td>168</td>\n",
       "      <td>52</td>\n",
       "      <td>1138</td>\n",
       "      <td>777</td>\n",
       "      <td>41</td>\n",
       "      <td>228</td>\n",
       "      <td>-41</td>\n",
       "      <td>3</td>\n",
       "    </tr>\n",
       "    <tr>\n",
       "      <th>4</th>\n",
       "      <td>-135</td>\n",
       "      <td>-114</td>\n",
       "      <td>265</td>\n",
       "      <td>12</td>\n",
       "      <td>-419</td>\n",
       "      <td>-585</td>\n",
       "      <td>158</td>\n",
       "      <td>-253</td>\n",
       "      <td>49</td>\n",
       "      <td>31</td>\n",
       "      <td>...</td>\n",
       "      <td>835</td>\n",
       "      <td>218</td>\n",
       "      <td>174</td>\n",
       "      <td>-110</td>\n",
       "      <td>627</td>\n",
       "      <td>170</td>\n",
       "      <td>-50</td>\n",
       "      <td>126</td>\n",
       "      <td>-91</td>\n",
       "      <td>4</td>\n",
       "    </tr>\n",
       "    <tr>\n",
       "      <th>5</th>\n",
       "      <td>-106</td>\n",
       "      <td>-125</td>\n",
       "      <td>-76</td>\n",
       "      <td>168</td>\n",
       "      <td>-230</td>\n",
       "      <td>-284</td>\n",
       "      <td>4</td>\n",
       "      <td>-122</td>\n",
       "      <td>70</td>\n",
       "      <td>252</td>\n",
       "      <td>...</td>\n",
       "      <td>649</td>\n",
       "      <td>57</td>\n",
       "      <td>504</td>\n",
       "      <td>-26</td>\n",
       "      <td>250</td>\n",
       "      <td>314</td>\n",
       "      <td>14</td>\n",
       "      <td>56</td>\n",
       "      <td>-25</td>\n",
       "      <td>5</td>\n",
       "    </tr>\n",
       "    <tr>\n",
       "      <th>...</th>\n",
       "      <td>...</td>\n",
       "      <td>...</td>\n",
       "      <td>...</td>\n",
       "      <td>...</td>\n",
       "      <td>...</td>\n",
       "      <td>...</td>\n",
       "      <td>...</td>\n",
       "      <td>...</td>\n",
       "      <td>...</td>\n",
       "      <td>...</td>\n",
       "      <td>...</td>\n",
       "      <td>...</td>\n",
       "      <td>...</td>\n",
       "      <td>...</td>\n",
       "      <td>...</td>\n",
       "      <td>...</td>\n",
       "      <td>...</td>\n",
       "      <td>...</td>\n",
       "      <td>...</td>\n",
       "      <td>...</td>\n",
       "      <td>...</td>\n",
       "    </tr>\n",
       "    <tr>\n",
       "      <th>65</th>\n",
       "      <td>-62</td>\n",
       "      <td>-198</td>\n",
       "      <td>-5</td>\n",
       "      <td>141</td>\n",
       "      <td>-256</td>\n",
       "      <td>-206</td>\n",
       "      <td>-298</td>\n",
       "      <td>-218</td>\n",
       "      <td>-14</td>\n",
       "      <td>100</td>\n",
       "      <td>...</td>\n",
       "      <td>532</td>\n",
       "      <td>-34</td>\n",
       "      <td>239</td>\n",
       "      <td>-78</td>\n",
       "      <td>707</td>\n",
       "      <td>354</td>\n",
       "      <td>-22</td>\n",
       "      <td>260</td>\n",
       "      <td>5</td>\n",
       "      <td>68</td>\n",
       "    </tr>\n",
       "    <tr>\n",
       "      <th>66</th>\n",
       "      <td>-58</td>\n",
       "      <td>-217</td>\n",
       "      <td>63</td>\n",
       "      <td>95</td>\n",
       "      <td>-191</td>\n",
       "      <td>-230</td>\n",
       "      <td>-86</td>\n",
       "      <td>-152</td>\n",
       "      <td>-6</td>\n",
       "      <td>-249</td>\n",
       "      <td>...</td>\n",
       "      <td>297</td>\n",
       "      <td>36</td>\n",
       "      <td>358</td>\n",
       "      <td>2</td>\n",
       "      <td>423</td>\n",
       "      <td>41</td>\n",
       "      <td>0</td>\n",
       "      <td>1777</td>\n",
       "      <td>-49</td>\n",
       "      <td>69</td>\n",
       "    </tr>\n",
       "    <tr>\n",
       "      <th>63</th>\n",
       "      <td>-161</td>\n",
       "      <td>-215</td>\n",
       "      <td>-46</td>\n",
       "      <td>146</td>\n",
       "      <td>-172</td>\n",
       "      <td>-596</td>\n",
       "      <td>-122</td>\n",
       "      <td>-341</td>\n",
       "      <td>171</td>\n",
       "      <td>-147</td>\n",
       "      <td>...</td>\n",
       "      <td>639</td>\n",
       "      <td>-27</td>\n",
       "      <td>548</td>\n",
       "      <td>-39</td>\n",
       "      <td>809</td>\n",
       "      <td>445</td>\n",
       "      <td>-2</td>\n",
       "      <td>210</td>\n",
       "      <td>16</td>\n",
       "      <td>70</td>\n",
       "    </tr>\n",
       "    <tr>\n",
       "      <th>64</th>\n",
       "      <td>-48</td>\n",
       "      <td>-531</td>\n",
       "      <td>-124</td>\n",
       "      <td>431</td>\n",
       "      <td>-496</td>\n",
       "      <td>-696</td>\n",
       "      <td>-1038</td>\n",
       "      <td>-441</td>\n",
       "      <td>235</td>\n",
       "      <td>157</td>\n",
       "      <td>...</td>\n",
       "      <td>1141</td>\n",
       "      <td>-121</td>\n",
       "      <td>197</td>\n",
       "      <td>-108</td>\n",
       "      <td>466</td>\n",
       "      <td>349</td>\n",
       "      <td>0</td>\n",
       "      <td>284</td>\n",
       "      <td>-73</td>\n",
       "      <td>71</td>\n",
       "    </tr>\n",
       "    <tr>\n",
       "      <th>62</th>\n",
       "      <td>-176</td>\n",
       "      <td>-284</td>\n",
       "      <td>-81</td>\n",
       "      <td>9</td>\n",
       "      <td>-294</td>\n",
       "      <td>-493</td>\n",
       "      <td>-393</td>\n",
       "      <td>-141</td>\n",
       "      <td>166</td>\n",
       "      <td>-37</td>\n",
       "      <td>...</td>\n",
       "      <td>574</td>\n",
       "      <td>132</td>\n",
       "      <td>618</td>\n",
       "      <td>-9</td>\n",
       "      <td>551</td>\n",
       "      <td>194</td>\n",
       "      <td>20</td>\n",
       "      <td>379</td>\n",
       "      <td>-60</td>\n",
       "      <td>72</td>\n",
       "    </tr>\n",
       "  </tbody>\n",
       "</table>\n",
       "<p>72 rows × 7130 columns</p>\n",
       "</div>"
      ],
      "text/plain": [
       "      0    1    2    3    4    5     6    7    8    9  ...  7120  7121  7122  \\\n",
       "1  -214 -153  -58   88 -295 -558   199 -176  252  206  ...   511  -125   389   \n",
       "2  -139  -73   -1  283 -264 -400  -330 -168  101   74  ...   837   -36   442   \n",
       "3   -76  -49 -307  309 -376 -650    33 -367  206 -215  ...  1199    33   168   \n",
       "4  -135 -114  265   12 -419 -585   158 -253   49   31  ...   835   218   174   \n",
       "5  -106 -125  -76  168 -230 -284     4 -122   70  252  ...   649    57   504   \n",
       "..  ...  ...  ...  ...  ...  ...   ...  ...  ...  ...  ...   ...   ...   ...   \n",
       "65  -62 -198   -5  141 -256 -206  -298 -218  -14  100  ...   532   -34   239   \n",
       "66  -58 -217   63   95 -191 -230   -86 -152   -6 -249  ...   297    36   358   \n",
       "63 -161 -215  -46  146 -172 -596  -122 -341  171 -147  ...   639   -27   548   \n",
       "64  -48 -531 -124  431 -496 -696 -1038 -441  235  157  ...  1141  -121   197   \n",
       "62 -176 -284  -81    9 -294 -493  -393 -141  166  -37  ...   574   132   618   \n",
       "\n",
       "    7123  7124  7125  7126  7127  7128  patient  \n",
       "1    -37   793   329    36   191   -37        1  \n",
       "2    -17   782   295    11    76   -14        2  \n",
       "3     52  1138   777    41   228   -41        3  \n",
       "4   -110   627   170   -50   126   -91        4  \n",
       "5    -26   250   314    14    56   -25        5  \n",
       "..   ...   ...   ...   ...   ...   ...      ...  \n",
       "65   -78   707   354   -22   260     5       68  \n",
       "66     2   423    41     0  1777   -49       69  \n",
       "63   -39   809   445    -2   210    16       70  \n",
       "64  -108   466   349     0   284   -73       71  \n",
       "62    -9   551   194    20   379   -60       72  \n",
       "\n",
       "[72 rows x 7130 columns]"
      ]
     },
     "execution_count": 17,
     "metadata": {},
     "output_type": "execute_result"
    }
   ],
   "source": [
    "df_genes = pd.concat([train[cols_train], test[cols_test]], axis=1)\n",
    "df_genes = df_genes.T\n",
    "df_genes['patient'] = [i+1 for i in range(df_genes.shape[0])]\n",
    "df_genes"
   ]
  },
  {
   "cell_type": "code",
   "execution_count": 18,
   "id": "360e760b-acba-4ec4-a6a3-36eae9ad5633",
   "metadata": {},
   "outputs": [
    {
     "data": {
      "text/html": [
       "<div>\n",
       "<style scoped>\n",
       "    .dataframe tbody tr th:only-of-type {\n",
       "        vertical-align: middle;\n",
       "    }\n",
       "\n",
       "    .dataframe tbody tr th {\n",
       "        vertical-align: top;\n",
       "    }\n",
       "\n",
       "    .dataframe thead th {\n",
       "        text-align: right;\n",
       "    }\n",
       "</style>\n",
       "<table border=\"1\" class=\"dataframe\">\n",
       "  <thead>\n",
       "    <tr style=\"text-align: right;\">\n",
       "      <th></th>\n",
       "      <th>0</th>\n",
       "      <th>1</th>\n",
       "      <th>2</th>\n",
       "      <th>3</th>\n",
       "      <th>4</th>\n",
       "      <th>5</th>\n",
       "      <th>6</th>\n",
       "      <th>7</th>\n",
       "      <th>8</th>\n",
       "      <th>9</th>\n",
       "      <th>...</th>\n",
       "      <th>7121</th>\n",
       "      <th>7122</th>\n",
       "      <th>7123</th>\n",
       "      <th>7124</th>\n",
       "      <th>7125</th>\n",
       "      <th>7126</th>\n",
       "      <th>7127</th>\n",
       "      <th>7128</th>\n",
       "      <th>patient</th>\n",
       "      <th>cancer</th>\n",
       "    </tr>\n",
       "  </thead>\n",
       "  <tbody>\n",
       "    <tr>\n",
       "      <th>0</th>\n",
       "      <td>-214</td>\n",
       "      <td>-153</td>\n",
       "      <td>-58</td>\n",
       "      <td>88</td>\n",
       "      <td>-295</td>\n",
       "      <td>-558</td>\n",
       "      <td>199</td>\n",
       "      <td>-176</td>\n",
       "      <td>252</td>\n",
       "      <td>206</td>\n",
       "      <td>...</td>\n",
       "      <td>-125</td>\n",
       "      <td>389</td>\n",
       "      <td>-37</td>\n",
       "      <td>793</td>\n",
       "      <td>329</td>\n",
       "      <td>36</td>\n",
       "      <td>191</td>\n",
       "      <td>-37</td>\n",
       "      <td>1</td>\n",
       "      <td>ALL</td>\n",
       "    </tr>\n",
       "    <tr>\n",
       "      <th>1</th>\n",
       "      <td>-139</td>\n",
       "      <td>-73</td>\n",
       "      <td>-1</td>\n",
       "      <td>283</td>\n",
       "      <td>-264</td>\n",
       "      <td>-400</td>\n",
       "      <td>-330</td>\n",
       "      <td>-168</td>\n",
       "      <td>101</td>\n",
       "      <td>74</td>\n",
       "      <td>...</td>\n",
       "      <td>-36</td>\n",
       "      <td>442</td>\n",
       "      <td>-17</td>\n",
       "      <td>782</td>\n",
       "      <td>295</td>\n",
       "      <td>11</td>\n",
       "      <td>76</td>\n",
       "      <td>-14</td>\n",
       "      <td>2</td>\n",
       "      <td>ALL</td>\n",
       "    </tr>\n",
       "    <tr>\n",
       "      <th>2</th>\n",
       "      <td>-76</td>\n",
       "      <td>-49</td>\n",
       "      <td>-307</td>\n",
       "      <td>309</td>\n",
       "      <td>-376</td>\n",
       "      <td>-650</td>\n",
       "      <td>33</td>\n",
       "      <td>-367</td>\n",
       "      <td>206</td>\n",
       "      <td>-215</td>\n",
       "      <td>...</td>\n",
       "      <td>33</td>\n",
       "      <td>168</td>\n",
       "      <td>52</td>\n",
       "      <td>1138</td>\n",
       "      <td>777</td>\n",
       "      <td>41</td>\n",
       "      <td>228</td>\n",
       "      <td>-41</td>\n",
       "      <td>3</td>\n",
       "      <td>ALL</td>\n",
       "    </tr>\n",
       "    <tr>\n",
       "      <th>3</th>\n",
       "      <td>-135</td>\n",
       "      <td>-114</td>\n",
       "      <td>265</td>\n",
       "      <td>12</td>\n",
       "      <td>-419</td>\n",
       "      <td>-585</td>\n",
       "      <td>158</td>\n",
       "      <td>-253</td>\n",
       "      <td>49</td>\n",
       "      <td>31</td>\n",
       "      <td>...</td>\n",
       "      <td>218</td>\n",
       "      <td>174</td>\n",
       "      <td>-110</td>\n",
       "      <td>627</td>\n",
       "      <td>170</td>\n",
       "      <td>-50</td>\n",
       "      <td>126</td>\n",
       "      <td>-91</td>\n",
       "      <td>4</td>\n",
       "      <td>ALL</td>\n",
       "    </tr>\n",
       "    <tr>\n",
       "      <th>4</th>\n",
       "      <td>-106</td>\n",
       "      <td>-125</td>\n",
       "      <td>-76</td>\n",
       "      <td>168</td>\n",
       "      <td>-230</td>\n",
       "      <td>-284</td>\n",
       "      <td>4</td>\n",
       "      <td>-122</td>\n",
       "      <td>70</td>\n",
       "      <td>252</td>\n",
       "      <td>...</td>\n",
       "      <td>57</td>\n",
       "      <td>504</td>\n",
       "      <td>-26</td>\n",
       "      <td>250</td>\n",
       "      <td>314</td>\n",
       "      <td>14</td>\n",
       "      <td>56</td>\n",
       "      <td>-25</td>\n",
       "      <td>5</td>\n",
       "      <td>ALL</td>\n",
       "    </tr>\n",
       "    <tr>\n",
       "      <th>...</th>\n",
       "      <td>...</td>\n",
       "      <td>...</td>\n",
       "      <td>...</td>\n",
       "      <td>...</td>\n",
       "      <td>...</td>\n",
       "      <td>...</td>\n",
       "      <td>...</td>\n",
       "      <td>...</td>\n",
       "      <td>...</td>\n",
       "      <td>...</td>\n",
       "      <td>...</td>\n",
       "      <td>...</td>\n",
       "      <td>...</td>\n",
       "      <td>...</td>\n",
       "      <td>...</td>\n",
       "      <td>...</td>\n",
       "      <td>...</td>\n",
       "      <td>...</td>\n",
       "      <td>...</td>\n",
       "      <td>...</td>\n",
       "      <td>...</td>\n",
       "    </tr>\n",
       "    <tr>\n",
       "      <th>67</th>\n",
       "      <td>-62</td>\n",
       "      <td>-198</td>\n",
       "      <td>-5</td>\n",
       "      <td>141</td>\n",
       "      <td>-256</td>\n",
       "      <td>-206</td>\n",
       "      <td>-298</td>\n",
       "      <td>-218</td>\n",
       "      <td>-14</td>\n",
       "      <td>100</td>\n",
       "      <td>...</td>\n",
       "      <td>-34</td>\n",
       "      <td>239</td>\n",
       "      <td>-78</td>\n",
       "      <td>707</td>\n",
       "      <td>354</td>\n",
       "      <td>-22</td>\n",
       "      <td>260</td>\n",
       "      <td>5</td>\n",
       "      <td>68</td>\n",
       "      <td>ALL</td>\n",
       "    </tr>\n",
       "    <tr>\n",
       "      <th>68</th>\n",
       "      <td>-58</td>\n",
       "      <td>-217</td>\n",
       "      <td>63</td>\n",
       "      <td>95</td>\n",
       "      <td>-191</td>\n",
       "      <td>-230</td>\n",
       "      <td>-86</td>\n",
       "      <td>-152</td>\n",
       "      <td>-6</td>\n",
       "      <td>-249</td>\n",
       "      <td>...</td>\n",
       "      <td>36</td>\n",
       "      <td>358</td>\n",
       "      <td>2</td>\n",
       "      <td>423</td>\n",
       "      <td>41</td>\n",
       "      <td>0</td>\n",
       "      <td>1777</td>\n",
       "      <td>-49</td>\n",
       "      <td>69</td>\n",
       "      <td>ALL</td>\n",
       "    </tr>\n",
       "    <tr>\n",
       "      <th>69</th>\n",
       "      <td>-161</td>\n",
       "      <td>-215</td>\n",
       "      <td>-46</td>\n",
       "      <td>146</td>\n",
       "      <td>-172</td>\n",
       "      <td>-596</td>\n",
       "      <td>-122</td>\n",
       "      <td>-341</td>\n",
       "      <td>171</td>\n",
       "      <td>-147</td>\n",
       "      <td>...</td>\n",
       "      <td>-27</td>\n",
       "      <td>548</td>\n",
       "      <td>-39</td>\n",
       "      <td>809</td>\n",
       "      <td>445</td>\n",
       "      <td>-2</td>\n",
       "      <td>210</td>\n",
       "      <td>16</td>\n",
       "      <td>70</td>\n",
       "      <td>ALL</td>\n",
       "    </tr>\n",
       "    <tr>\n",
       "      <th>70</th>\n",
       "      <td>-48</td>\n",
       "      <td>-531</td>\n",
       "      <td>-124</td>\n",
       "      <td>431</td>\n",
       "      <td>-496</td>\n",
       "      <td>-696</td>\n",
       "      <td>-1038</td>\n",
       "      <td>-441</td>\n",
       "      <td>235</td>\n",
       "      <td>157</td>\n",
       "      <td>...</td>\n",
       "      <td>-121</td>\n",
       "      <td>197</td>\n",
       "      <td>-108</td>\n",
       "      <td>466</td>\n",
       "      <td>349</td>\n",
       "      <td>0</td>\n",
       "      <td>284</td>\n",
       "      <td>-73</td>\n",
       "      <td>71</td>\n",
       "      <td>ALL</td>\n",
       "    </tr>\n",
       "    <tr>\n",
       "      <th>71</th>\n",
       "      <td>-176</td>\n",
       "      <td>-284</td>\n",
       "      <td>-81</td>\n",
       "      <td>9</td>\n",
       "      <td>-294</td>\n",
       "      <td>-493</td>\n",
       "      <td>-393</td>\n",
       "      <td>-141</td>\n",
       "      <td>166</td>\n",
       "      <td>-37</td>\n",
       "      <td>...</td>\n",
       "      <td>132</td>\n",
       "      <td>618</td>\n",
       "      <td>-9</td>\n",
       "      <td>551</td>\n",
       "      <td>194</td>\n",
       "      <td>20</td>\n",
       "      <td>379</td>\n",
       "      <td>-60</td>\n",
       "      <td>72</td>\n",
       "      <td>ALL</td>\n",
       "    </tr>\n",
       "  </tbody>\n",
       "</table>\n",
       "<p>72 rows × 7131 columns</p>\n",
       "</div>"
      ],
      "text/plain": [
       "      0    1    2    3    4    5     6    7    8    9  ...  7121  7122  7123  \\\n",
       "0  -214 -153  -58   88 -295 -558   199 -176  252  206  ...  -125   389   -37   \n",
       "1  -139  -73   -1  283 -264 -400  -330 -168  101   74  ...   -36   442   -17   \n",
       "2   -76  -49 -307  309 -376 -650    33 -367  206 -215  ...    33   168    52   \n",
       "3  -135 -114  265   12 -419 -585   158 -253   49   31  ...   218   174  -110   \n",
       "4  -106 -125  -76  168 -230 -284     4 -122   70  252  ...    57   504   -26   \n",
       "..  ...  ...  ...  ...  ...  ...   ...  ...  ...  ...  ...   ...   ...   ...   \n",
       "67  -62 -198   -5  141 -256 -206  -298 -218  -14  100  ...   -34   239   -78   \n",
       "68  -58 -217   63   95 -191 -230   -86 -152   -6 -249  ...    36   358     2   \n",
       "69 -161 -215  -46  146 -172 -596  -122 -341  171 -147  ...   -27   548   -39   \n",
       "70  -48 -531 -124  431 -496 -696 -1038 -441  235  157  ...  -121   197  -108   \n",
       "71 -176 -284  -81    9 -294 -493  -393 -141  166  -37  ...   132   618    -9   \n",
       "\n",
       "    7124  7125  7126  7127  7128  patient  cancer  \n",
       "0    793   329    36   191   -37        1     ALL  \n",
       "1    782   295    11    76   -14        2     ALL  \n",
       "2   1138   777    41   228   -41        3     ALL  \n",
       "3    627   170   -50   126   -91        4     ALL  \n",
       "4    250   314    14    56   -25        5     ALL  \n",
       "..   ...   ...   ...   ...   ...      ...     ...  \n",
       "67   707   354   -22   260     5       68     ALL  \n",
       "68   423    41     0  1777   -49       69     ALL  \n",
       "69   809   445    -2   210    16       70     ALL  \n",
       "70   466   349     0   284   -73       71     ALL  \n",
       "71   551   194    20   379   -60       72     ALL  \n",
       "\n",
       "[72 rows x 7131 columns]"
      ]
     },
     "execution_count": 18,
     "metadata": {},
     "output_type": "execute_result"
    }
   ],
   "source": [
    "df_all = df_genes.merge(actual, on='patient')\n",
    "df_all"
   ]
  },
  {
   "cell_type": "code",
   "execution_count": 19,
   "id": "9b949069-6046-46f8-a310-0fcdb44ac69b",
   "metadata": {},
   "outputs": [],
   "source": [
    "X = df_all.drop(columns=['patient', 'cancer'])\n",
    "y = df_all.cancer"
   ]
  },
  {
   "cell_type": "code",
   "execution_count": 20,
   "id": "1bc6f538-db5e-4f45-a4ef-61c9253ca5d9",
   "metadata": {},
   "outputs": [
    {
     "data": {
      "text/plain": [
       "((72, 7129), (72,))"
      ]
     },
     "execution_count": 20,
     "metadata": {},
     "output_type": "execute_result"
    }
   ],
   "source": [
    "X.shape, y.shape"
   ]
  },
  {
   "cell_type": "code",
   "execution_count": 21,
   "id": "93422f19-ef52-46d9-9d8b-781a26516e76",
   "metadata": {},
   "outputs": [],
   "source": [
    "from sklearn.model_selection import train_test_split  "
   ]
  },
  {
   "cell_type": "code",
   "execution_count": 22,
   "id": "347ce282-65bf-43a3-8ef7-f5e5bd9a5283",
   "metadata": {},
   "outputs": [],
   "source": [
    "X_train, X_test, y_train, y_test = train_test_split(X, y, random_state=42, stratify=y, test_size=0.2)"
   ]
  },
  {
   "cell_type": "code",
   "execution_count": 23,
   "id": "0a74a930-746f-4598-a502-1df3bb33071d",
   "metadata": {},
   "outputs": [
    {
     "data": {
      "text/plain": [
       "((57, 7129), (15, 7129), (57,), (15,))"
      ]
     },
     "execution_count": 23,
     "metadata": {},
     "output_type": "execute_result"
    }
   ],
   "source": [
    "X_train.shape, X_test.shape, y_train.shape, y_test.shape"
   ]
  },
  {
   "cell_type": "markdown",
   "id": "29e5383b-9a8a-49cc-9994-3a91a9dafcfc",
   "metadata": {},
   "source": [
    "# Data Manipulation"
   ]
  },
  {
   "cell_type": "code",
   "execution_count": 24,
   "id": "68068be6-3a81-4506-a780-eb290d278b20",
   "metadata": {},
   "outputs": [],
   "source": [
    "from sklearn.preprocessing import RobustScaler"
   ]
  },
  {
   "cell_type": "code",
   "execution_count": 25,
   "id": "e9d2c928-2e36-40ff-bc9a-86958f9702b7",
   "metadata": {},
   "outputs": [],
   "source": [
    "rs = RobustScaler()"
   ]
  },
  {
   "cell_type": "code",
   "execution_count": 26,
   "id": "d2636294-a6bc-4604-af82-31ae5bb5c718",
   "metadata": {},
   "outputs": [
    {
     "data": {
      "text/html": [
       "<div>\n",
       "<style scoped>\n",
       "    .dataframe tbody tr th:only-of-type {\n",
       "        vertical-align: middle;\n",
       "    }\n",
       "\n",
       "    .dataframe tbody tr th {\n",
       "        vertical-align: top;\n",
       "    }\n",
       "\n",
       "    .dataframe thead th {\n",
       "        text-align: right;\n",
       "    }\n",
       "</style>\n",
       "<table border=\"1\" class=\"dataframe\">\n",
       "  <thead>\n",
       "    <tr style=\"text-align: right;\">\n",
       "      <th></th>\n",
       "      <th>0</th>\n",
       "      <th>1</th>\n",
       "      <th>2</th>\n",
       "      <th>3</th>\n",
       "      <th>4</th>\n",
       "      <th>5</th>\n",
       "      <th>6</th>\n",
       "      <th>7</th>\n",
       "      <th>8</th>\n",
       "      <th>9</th>\n",
       "      <th>...</th>\n",
       "      <th>7119</th>\n",
       "      <th>7120</th>\n",
       "      <th>7121</th>\n",
       "      <th>7122</th>\n",
       "      <th>7123</th>\n",
       "      <th>7124</th>\n",
       "      <th>7125</th>\n",
       "      <th>7126</th>\n",
       "      <th>7127</th>\n",
       "      <th>7128</th>\n",
       "    </tr>\n",
       "  </thead>\n",
       "  <tbody>\n",
       "    <tr>\n",
       "      <th>0</th>\n",
       "      <td>0.411111</td>\n",
       "      <td>-0.608333</td>\n",
       "      <td>0.642857</td>\n",
       "      <td>-0.505814</td>\n",
       "      <td>0.220339</td>\n",
       "      <td>0.669388</td>\n",
       "      <td>-0.155477</td>\n",
       "      <td>0.212389</td>\n",
       "      <td>-0.664286</td>\n",
       "      <td>-1.127796</td>\n",
       "      <td>...</td>\n",
       "      <td>-0.965217</td>\n",
       "      <td>-0.840295</td>\n",
       "      <td>0.33</td>\n",
       "      <td>0.305660</td>\n",
       "      <td>0.560606</td>\n",
       "      <td>-0.580000</td>\n",
       "      <td>-1.129870</td>\n",
       "      <td>-0.366667</td>\n",
       "      <td>3.927318</td>\n",
       "      <td>-0.301887</td>\n",
       "    </tr>\n",
       "    <tr>\n",
       "      <th>1</th>\n",
       "      <td>0.000000</td>\n",
       "      <td>0.216667</td>\n",
       "      <td>0.611111</td>\n",
       "      <td>0.511628</td>\n",
       "      <td>0.005650</td>\n",
       "      <td>0.044898</td>\n",
       "      <td>0.756184</td>\n",
       "      <td>-0.097345</td>\n",
       "      <td>0.700000</td>\n",
       "      <td>0.169329</td>\n",
       "      <td>...</td>\n",
       "      <td>0.278261</td>\n",
       "      <td>0.149877</td>\n",
       "      <td>-0.64</td>\n",
       "      <td>0.392453</td>\n",
       "      <td>-1.060606</td>\n",
       "      <td>0.592727</td>\n",
       "      <td>0.476190</td>\n",
       "      <td>-1.800000</td>\n",
       "      <td>1.233083</td>\n",
       "      <td>0.962264</td>\n",
       "    </tr>\n",
       "    <tr>\n",
       "      <th>2</th>\n",
       "      <td>-0.322222</td>\n",
       "      <td>0.541667</td>\n",
       "      <td>-0.150794</td>\n",
       "      <td>0.860465</td>\n",
       "      <td>0.237288</td>\n",
       "      <td>-0.118367</td>\n",
       "      <td>0.038869</td>\n",
       "      <td>-0.415929</td>\n",
       "      <td>-1.207143</td>\n",
       "      <td>0.230032</td>\n",
       "      <td>...</td>\n",
       "      <td>1.513043</td>\n",
       "      <td>0.734644</td>\n",
       "      <td>-0.18</td>\n",
       "      <td>0.588679</td>\n",
       "      <td>0.500000</td>\n",
       "      <td>0.778182</td>\n",
       "      <td>-0.077922</td>\n",
       "      <td>0.933333</td>\n",
       "      <td>0.220551</td>\n",
       "      <td>0.566038</td>\n",
       "    </tr>\n",
       "    <tr>\n",
       "      <th>3</th>\n",
       "      <td>-0.466667</td>\n",
       "      <td>0.775000</td>\n",
       "      <td>-0.507937</td>\n",
       "      <td>-0.023256</td>\n",
       "      <td>0.536723</td>\n",
       "      <td>0.302041</td>\n",
       "      <td>0.102473</td>\n",
       "      <td>1.460177</td>\n",
       "      <td>0.178571</td>\n",
       "      <td>-0.894569</td>\n",
       "      <td>...</td>\n",
       "      <td>-0.356522</td>\n",
       "      <td>-0.513514</td>\n",
       "      <td>0.28</td>\n",
       "      <td>-0.060377</td>\n",
       "      <td>-0.348485</td>\n",
       "      <td>-0.427273</td>\n",
       "      <td>-1.030303</td>\n",
       "      <td>-0.733333</td>\n",
       "      <td>-0.030075</td>\n",
       "      <td>0.000000</td>\n",
       "    </tr>\n",
       "    <tr>\n",
       "      <th>4</th>\n",
       "      <td>0.444444</td>\n",
       "      <td>0.833333</td>\n",
       "      <td>0.238095</td>\n",
       "      <td>-0.308140</td>\n",
       "      <td>0.689266</td>\n",
       "      <td>0.379592</td>\n",
       "      <td>-0.636042</td>\n",
       "      <td>0.380531</td>\n",
       "      <td>0.350000</td>\n",
       "      <td>0.690096</td>\n",
       "      <td>...</td>\n",
       "      <td>-0.373913</td>\n",
       "      <td>-0.788698</td>\n",
       "      <td>0.32</td>\n",
       "      <td>-0.135849</td>\n",
       "      <td>-0.469697</td>\n",
       "      <td>-0.767273</td>\n",
       "      <td>-0.554113</td>\n",
       "      <td>-0.500000</td>\n",
       "      <td>-0.085213</td>\n",
       "      <td>1.377358</td>\n",
       "    </tr>\n",
       "  </tbody>\n",
       "</table>\n",
       "<p>5 rows × 7129 columns</p>\n",
       "</div>"
      ],
      "text/plain": [
       "       0         1         2         3         4         5         6     \\\n",
       "0  0.411111 -0.608333  0.642857 -0.505814  0.220339  0.669388 -0.155477   \n",
       "1  0.000000  0.216667  0.611111  0.511628  0.005650  0.044898  0.756184   \n",
       "2 -0.322222  0.541667 -0.150794  0.860465  0.237288 -0.118367  0.038869   \n",
       "3 -0.466667  0.775000 -0.507937 -0.023256  0.536723  0.302041  0.102473   \n",
       "4  0.444444  0.833333  0.238095 -0.308140  0.689266  0.379592 -0.636042   \n",
       "\n",
       "       7         8         9     ...      7119      7120  7121      7122  \\\n",
       "0  0.212389 -0.664286 -1.127796  ... -0.965217 -0.840295  0.33  0.305660   \n",
       "1 -0.097345  0.700000  0.169329  ...  0.278261  0.149877 -0.64  0.392453   \n",
       "2 -0.415929 -1.207143  0.230032  ...  1.513043  0.734644 -0.18  0.588679   \n",
       "3  1.460177  0.178571 -0.894569  ... -0.356522 -0.513514  0.28 -0.060377   \n",
       "4  0.380531  0.350000  0.690096  ... -0.373913 -0.788698  0.32 -0.135849   \n",
       "\n",
       "       7123      7124      7125      7126      7127      7128  \n",
       "0  0.560606 -0.580000 -1.129870 -0.366667  3.927318 -0.301887  \n",
       "1 -1.060606  0.592727  0.476190 -1.800000  1.233083  0.962264  \n",
       "2  0.500000  0.778182 -0.077922  0.933333  0.220551  0.566038  \n",
       "3 -0.348485 -0.427273 -1.030303 -0.733333 -0.030075  0.000000  \n",
       "4 -0.469697 -0.767273 -0.554113 -0.500000 -0.085213  1.377358  \n",
       "\n",
       "[5 rows x 7129 columns]"
      ]
     },
     "execution_count": 26,
     "metadata": {},
     "output_type": "execute_result"
    }
   ],
   "source": [
    "X_train_rs = pd.DataFrame(rs.fit_transform(X_train), columns=X_train.columns)\n",
    "X_train_rs.head()"
   ]
  },
  {
   "cell_type": "code",
   "execution_count": 27,
   "id": "cc7c5a90-84d7-40be-96fc-5bd9fcce0b52",
   "metadata": {},
   "outputs": [
    {
     "data": {
      "text/html": [
       "<div>\n",
       "<style scoped>\n",
       "    .dataframe tbody tr th:only-of-type {\n",
       "        vertical-align: middle;\n",
       "    }\n",
       "\n",
       "    .dataframe tbody tr th {\n",
       "        vertical-align: top;\n",
       "    }\n",
       "\n",
       "    .dataframe thead th {\n",
       "        text-align: right;\n",
       "    }\n",
       "</style>\n",
       "<table border=\"1\" class=\"dataframe\">\n",
       "  <thead>\n",
       "    <tr style=\"text-align: right;\">\n",
       "      <th></th>\n",
       "      <th>0</th>\n",
       "      <th>1</th>\n",
       "      <th>2</th>\n",
       "      <th>3</th>\n",
       "      <th>4</th>\n",
       "      <th>5</th>\n",
       "      <th>6</th>\n",
       "      <th>7</th>\n",
       "      <th>8</th>\n",
       "      <th>9</th>\n",
       "      <th>...</th>\n",
       "      <th>7119</th>\n",
       "      <th>7120</th>\n",
       "      <th>7121</th>\n",
       "      <th>7122</th>\n",
       "      <th>7123</th>\n",
       "      <th>7124</th>\n",
       "      <th>7125</th>\n",
       "      <th>7126</th>\n",
       "      <th>7127</th>\n",
       "      <th>7128</th>\n",
       "    </tr>\n",
       "  </thead>\n",
       "  <tbody>\n",
       "    <tr>\n",
       "      <th>0</th>\n",
       "      <td>-0.133333</td>\n",
       "      <td>0.600000</td>\n",
       "      <td>-0.857143</td>\n",
       "      <td>-0.191860</td>\n",
       "      <td>0.141243</td>\n",
       "      <td>0.448980</td>\n",
       "      <td>-0.438163</td>\n",
       "      <td>-0.079646</td>\n",
       "      <td>-0.614286</td>\n",
       "      <td>-0.405751</td>\n",
       "      <td>...</td>\n",
       "      <td>-0.469565</td>\n",
       "      <td>0.203931</td>\n",
       "      <td>0.17</td>\n",
       "      <td>0.207547</td>\n",
       "      <td>0.454545</td>\n",
       "      <td>-0.994545</td>\n",
       "      <td>-1.051948</td>\n",
       "      <td>0.666667</td>\n",
       "      <td>-0.235589</td>\n",
       "      <td>0.283019</td>\n",
       "    </tr>\n",
       "    <tr>\n",
       "      <th>1</th>\n",
       "      <td>-0.900000</td>\n",
       "      <td>-1.166667</td>\n",
       "      <td>-0.500000</td>\n",
       "      <td>-1.005814</td>\n",
       "      <td>-0.361582</td>\n",
       "      <td>-0.404082</td>\n",
       "      <td>-1.240283</td>\n",
       "      <td>0.309735</td>\n",
       "      <td>0.564286</td>\n",
       "      <td>-0.450479</td>\n",
       "      <td>...</td>\n",
       "      <td>-0.808696</td>\n",
       "      <td>-0.159705</td>\n",
       "      <td>1.29</td>\n",
       "      <td>1.286792</td>\n",
       "      <td>0.393939</td>\n",
       "      <td>-0.347273</td>\n",
       "      <td>-0.467532</td>\n",
       "      <td>0.300000</td>\n",
       "      <td>0.423559</td>\n",
       "      <td>-0.509434</td>\n",
       "    </tr>\n",
       "    <tr>\n",
       "      <th>2</th>\n",
       "      <td>0.088889</td>\n",
       "      <td>-0.866667</td>\n",
       "      <td>2.222222</td>\n",
       "      <td>0.656977</td>\n",
       "      <td>0.022599</td>\n",
       "      <td>-0.404082</td>\n",
       "      <td>1.445230</td>\n",
       "      <td>-2.442478</td>\n",
       "      <td>0.764286</td>\n",
       "      <td>0.185304</td>\n",
       "      <td>...</td>\n",
       "      <td>-0.791304</td>\n",
       "      <td>-0.270270</td>\n",
       "      <td>-2.98</td>\n",
       "      <td>0.283019</td>\n",
       "      <td>-0.484848</td>\n",
       "      <td>-1.227273</td>\n",
       "      <td>-0.168831</td>\n",
       "      <td>-1.466667</td>\n",
       "      <td>-0.609023</td>\n",
       "      <td>0.226415</td>\n",
       "    </tr>\n",
       "    <tr>\n",
       "      <th>3</th>\n",
       "      <td>0.211111</td>\n",
       "      <td>0.383333</td>\n",
       "      <td>-1.071429</td>\n",
       "      <td>0.319767</td>\n",
       "      <td>0.084746</td>\n",
       "      <td>1.110204</td>\n",
       "      <td>-0.091873</td>\n",
       "      <td>0.513274</td>\n",
       "      <td>-0.578571</td>\n",
       "      <td>0.332268</td>\n",
       "      <td>...</td>\n",
       "      <td>0.043478</td>\n",
       "      <td>-0.348894</td>\n",
       "      <td>0.28</td>\n",
       "      <td>-0.135849</td>\n",
       "      <td>0.227273</td>\n",
       "      <td>-0.547273</td>\n",
       "      <td>-0.878788</td>\n",
       "      <td>-0.633333</td>\n",
       "      <td>-0.325815</td>\n",
       "      <td>0.396226</td>\n",
       "    </tr>\n",
       "    <tr>\n",
       "      <th>4</th>\n",
       "      <td>-0.255556</td>\n",
       "      <td>0.016667</td>\n",
       "      <td>1.825397</td>\n",
       "      <td>0.767442</td>\n",
       "      <td>-0.966102</td>\n",
       "      <td>-0.236735</td>\n",
       "      <td>-1.038869</td>\n",
       "      <td>-1.185841</td>\n",
       "      <td>0.642857</td>\n",
       "      <td>-0.750799</td>\n",
       "      <td>...</td>\n",
       "      <td>-0.347826</td>\n",
       "      <td>0.125307</td>\n",
       "      <td>-0.11</td>\n",
       "      <td>0.203774</td>\n",
       "      <td>-0.409091</td>\n",
       "      <td>0.254545</td>\n",
       "      <td>-0.164502</td>\n",
       "      <td>2.066667</td>\n",
       "      <td>0.263158</td>\n",
       "      <td>0.754717</td>\n",
       "    </tr>\n",
       "  </tbody>\n",
       "</table>\n",
       "<p>5 rows × 7129 columns</p>\n",
       "</div>"
      ],
      "text/plain": [
       "       0         1         2         3         4         5         6     \\\n",
       "0 -0.133333  0.600000 -0.857143 -0.191860  0.141243  0.448980 -0.438163   \n",
       "1 -0.900000 -1.166667 -0.500000 -1.005814 -0.361582 -0.404082 -1.240283   \n",
       "2  0.088889 -0.866667  2.222222  0.656977  0.022599 -0.404082  1.445230   \n",
       "3  0.211111  0.383333 -1.071429  0.319767  0.084746  1.110204 -0.091873   \n",
       "4 -0.255556  0.016667  1.825397  0.767442 -0.966102 -0.236735 -1.038869   \n",
       "\n",
       "       7         8         9     ...      7119      7120  7121      7122  \\\n",
       "0 -0.079646 -0.614286 -0.405751  ... -0.469565  0.203931  0.17  0.207547   \n",
       "1  0.309735  0.564286 -0.450479  ... -0.808696 -0.159705  1.29  1.286792   \n",
       "2 -2.442478  0.764286  0.185304  ... -0.791304 -0.270270 -2.98  0.283019   \n",
       "3  0.513274 -0.578571  0.332268  ...  0.043478 -0.348894  0.28 -0.135849   \n",
       "4 -1.185841  0.642857 -0.750799  ... -0.347826  0.125307 -0.11  0.203774   \n",
       "\n",
       "       7123      7124      7125      7126      7127      7128  \n",
       "0  0.454545 -0.994545 -1.051948  0.666667 -0.235589  0.283019  \n",
       "1  0.393939 -0.347273 -0.467532  0.300000  0.423559 -0.509434  \n",
       "2 -0.484848 -1.227273 -0.168831 -1.466667 -0.609023  0.226415  \n",
       "3  0.227273 -0.547273 -0.878788 -0.633333 -0.325815  0.396226  \n",
       "4 -0.409091  0.254545 -0.164502  2.066667  0.263158  0.754717  \n",
       "\n",
       "[5 rows x 7129 columns]"
      ]
     },
     "execution_count": 27,
     "metadata": {},
     "output_type": "execute_result"
    }
   ],
   "source": [
    "X_test_rs = pd.DataFrame(rs.transform(X_test), columns=X_test.columns)\n",
    "X_test_rs.head()"
   ]
  },
  {
   "cell_type": "markdown",
   "id": "79df7574-9f74-4253-8606-bc421aa9d17a",
   "metadata": {},
   "source": [
    "# Default Modelling"
   ]
  },
  {
   "cell_type": "code",
   "execution_count": 28,
   "id": "f13209b0-85cb-48dd-812a-6c2d87ebbcc9",
   "metadata": {},
   "outputs": [
    {
     "name": "stderr",
     "output_type": "stream",
     "text": [
      "C:\\Users\\Asus\\anaconda3\\lib\\site-packages\\xgboost\\compat.py:36: FutureWarning: pandas.Int64Index is deprecated and will be removed from pandas in a future version. Use pandas.Index with the appropriate dtype instead.\n",
      "  from pandas import MultiIndex, Int64Index\n"
     ]
    }
   ],
   "source": [
    "from xgboost import XGBClassifier"
   ]
  },
  {
   "cell_type": "code",
   "execution_count": 29,
   "id": "c0f5ea32-aa1b-49fa-85ba-3a8addfdf83c",
   "metadata": {},
   "outputs": [],
   "source": [
    "xgb = XGBClassifier(scale_pos_weight=10)"
   ]
  },
  {
   "cell_type": "code",
   "execution_count": 30,
   "id": "12134168-47ec-47cd-8435-abfb84d1c3af",
   "metadata": {},
   "outputs": [
    {
     "name": "stderr",
     "output_type": "stream",
     "text": [
      "C:\\Users\\Asus\\anaconda3\\lib\\site-packages\\xgboost\\sklearn.py:1224: UserWarning: The use of label encoder in XGBClassifier is deprecated and will be removed in a future release. To remove this warning, do the following: 1) Pass option use_label_encoder=False when constructing XGBClassifier object; and 2) Encode your labels (y) as integers starting with 0, i.e. 0, 1, 2, ..., [num_class - 1].\n",
      "  warnings.warn(label_encoder_deprecation_msg, UserWarning)\n",
      "C:\\Users\\Asus\\anaconda3\\lib\\site-packages\\xgboost\\data.py:262: FutureWarning: pandas.Int64Index is deprecated and will be removed from pandas in a future version. Use pandas.Index with the appropriate dtype instead.\n",
      "  elif isinstance(data.columns, (pd.Int64Index, pd.RangeIndex)):\n"
     ]
    },
    {
     "name": "stdout",
     "output_type": "stream",
     "text": [
      "[11:29:40] WARNING: C:/Users/Administrator/workspace/xgboost-win64_release_1.5.1/src/learner.cc:1115: Starting in XGBoost 1.3.0, the default evaluation metric used with the objective 'binary:logistic' was changed from 'error' to 'logloss'. Explicitly set eval_metric if you'd like to restore the old behavior.\n"
     ]
    },
    {
     "data": {
      "text/plain": [
       "XGBClassifier(base_score=0.5, booster='gbtree', colsample_bylevel=1,\n",
       "              colsample_bynode=1, colsample_bytree=1, enable_categorical=False,\n",
       "              gamma=0, gpu_id=-1, importance_type=None,\n",
       "              interaction_constraints='', learning_rate=0.300000012,\n",
       "              max_delta_step=0, max_depth=6, min_child_weight=1, missing=nan,\n",
       "              monotone_constraints='()', n_estimators=100, n_jobs=4,\n",
       "              num_parallel_tree=1, predictor='auto', random_state=0,\n",
       "              reg_alpha=0, reg_lambda=1, scale_pos_weight=10, subsample=1,\n",
       "              tree_method='exact', validate_parameters=1, verbosity=None)"
      ]
     },
     "execution_count": 30,
     "metadata": {},
     "output_type": "execute_result"
    }
   ],
   "source": [
    "xgb.fit(X_train, y_train)"
   ]
  },
  {
   "cell_type": "code",
   "execution_count": 31,
   "id": "dab9ebc2-de02-4753-b7de-c8566b61d2da",
   "metadata": {},
   "outputs": [],
   "source": [
    "y_train_pred = xgb.predict(X_train)"
   ]
  },
  {
   "cell_type": "code",
   "execution_count": 32,
   "id": "5140faae-f26b-44ba-8eec-c9d2d6b44867",
   "metadata": {},
   "outputs": [],
   "source": [
    "y_test_pred = xgb.predict(X_test)"
   ]
  },
  {
   "cell_type": "code",
   "execution_count": 33,
   "id": "74c884d6-79d9-496a-85a1-c729aba4323d",
   "metadata": {},
   "outputs": [],
   "source": [
    "from sklearn.metrics import classification_report"
   ]
  },
  {
   "cell_type": "code",
   "execution_count": 34,
   "id": "f0ff4fdb-5fbe-45bb-a173-06a0b22a6c6a",
   "metadata": {},
   "outputs": [
    {
     "name": "stdout",
     "output_type": "stream",
     "text": [
      "              precision    recall  f1-score   support\n",
      "\n",
      "         ALL       1.00      1.00      1.00        37\n",
      "         AML       1.00      1.00      1.00        20\n",
      "\n",
      "    accuracy                           1.00        57\n",
      "   macro avg       1.00      1.00      1.00        57\n",
      "weighted avg       1.00      1.00      1.00        57\n",
      "\n"
     ]
    }
   ],
   "source": [
    "print(classification_report(y_train, y_train_pred))"
   ]
  },
  {
   "cell_type": "code",
   "execution_count": 35,
   "id": "df0e3047-2d39-41ce-8da6-783f8cebb5c0",
   "metadata": {},
   "outputs": [
    {
     "name": "stdout",
     "output_type": "stream",
     "text": [
      "              precision    recall  f1-score   support\n",
      "\n",
      "         ALL       1.00      0.90      0.95        10\n",
      "         AML       0.83      1.00      0.91         5\n",
      "\n",
      "    accuracy                           0.93        15\n",
      "   macro avg       0.92      0.95      0.93        15\n",
      "weighted avg       0.94      0.93      0.93        15\n",
      "\n"
     ]
    }
   ],
   "source": [
    "print(classification_report(y_test, y_test_pred))"
   ]
  },
  {
   "cell_type": "markdown",
   "id": "e947f562-741f-4b34-861d-cbf4f657e58b",
   "metadata": {},
   "source": [
    "Dengan menggunakan scaler + XGBoost default masih kurang baik hasilnya. Selanjutnya melakukan feature engineering"
   ]
  },
  {
   "cell_type": "markdown",
   "id": "fc8bb5a5-5a0a-4c4e-bb3d-e534089effa8",
   "metadata": {},
   "source": [
    "# Feature Engineering"
   ]
  },
  {
   "cell_type": "markdown",
   "id": "16ec263a-3eba-4e0f-980e-3dac38ff0c7f",
   "metadata": {},
   "source": [
    "## Multicolinearity"
   ]
  },
  {
   "cell_type": "code",
   "execution_count": 36,
   "id": "8aab85ac-2d2d-41b5-969a-e493278fb451",
   "metadata": {},
   "outputs": [],
   "source": [
    "from scipy.stats import spearmanr"
   ]
  },
  {
   "cell_type": "code",
   "execution_count": 37,
   "id": "24c3f563-d634-4255-ba43-2938ddfe6508",
   "metadata": {},
   "outputs": [],
   "source": [
    "# cols_all = X_train_rs.columns\n",
    "# cols_cal = []\n",
    "# cols_pair = []\n",
    "# cols_notSig = []\n",
    "# cols_pair_notLinear = []\n",
    "# for col in cols_all:\n",
    "#     for col2 in cols_all:\n",
    "#         if (col==col2) or (col2 in cols_cal):\n",
    "#             cols_cal.append(col)\n",
    "#             continue\n",
    "#         corr = X_train_rs[col].corr(X_train_rs[col2],method='spearman')\n",
    "#         if abs(corr) > 0.8:\n",
    "#             stat, pvalue = spearmanr(X_train_rs[col],X_train_rs[col2])\n",
    "#             if pvalue < 0.05:\n",
    "#                 print('{} dan {} nilai corr ==> {} dan nilai pvalue ==> {}'.format(col,col2,corr,pvalue))\n",
    "#                 cols_pair.append([col, col2])\n",
    "#             else:\n",
    "#                 cols_notSig.append([col, col2])\n",
    "#         else:\n",
    "#             cols_pair_notLinear.append([col, col2])"
   ]
  },
  {
   "cell_type": "markdown",
   "id": "4aacc735-a948-4cdf-a6b4-7aac7bac88f5",
   "metadata": {},
   "source": [
    "Mencari multicolinearity memakan waktu yang panjang. Selanjutnya reduce features dengan PCA"
   ]
  },
  {
   "cell_type": "markdown",
   "id": "aa63ff6c-a735-4e0a-b7fe-60dd5d43db90",
   "metadata": {},
   "source": [
    "## PCA"
   ]
  },
  {
   "cell_type": "code",
   "execution_count": 38,
   "id": "e92324a8-f427-4504-890a-69b6ceb08111",
   "metadata": {},
   "outputs": [],
   "source": [
    "from sklearn.decomposition import PCA"
   ]
  },
  {
   "cell_type": "code",
   "execution_count": 39,
   "id": "90b4caff-3a5f-467d-87b5-c33ecda65426",
   "metadata": {},
   "outputs": [],
   "source": [
    "explained_variance = []\n",
    "\n",
    "for i in range(1,50):\n",
    "    pca = PCA(n_components=i)\n",
    "    pca.fit(X_train_rs)\n",
    "    \n",
    "    explained_variance.append(np.sum(pca.explained_variance_ratio_))"
   ]
  },
  {
   "cell_type": "code",
   "execution_count": 40,
   "id": "db893dd0-77a1-4563-a740-0600006e2b4b",
   "metadata": {},
   "outputs": [
    {
     "data": {
      "text/plain": [
       "[<matplotlib.lines.Line2D at 0x1c2807b9a00>]"
      ]
     },
     "execution_count": 40,
     "metadata": {},
     "output_type": "execute_result"
    },
    {
     "data": {
      "image/png": "[encoded data removed]",
      "text/plain": [
       "<Figure size 432x288 with 1 Axes>"
      ]
     },
     "metadata": {
      "needs_background": "light"
     },
     "output_type": "display_data"
    }
   ],
   "source": [
    "plt.plot(range(1,50), explained_variance, '-o')"
   ]
  },
  {
   "cell_type": "markdown",
   "id": "8bcf0d5c-7681-4927-b20f-319930725623",
   "metadata": {},
   "source": [
    "Ambil b_component = 50 karena informasi yang diperoleh mendekati 1 dan jauh lebih sedikit dari total columns sebenarnya"
   ]
  },
  {
   "cell_type": "code",
   "execution_count": 41,
   "id": "cd433b9c-661a-4d3e-9d3a-69632d03d48b",
   "metadata": {},
   "outputs": [],
   "source": [
    "pca_fix = PCA(n_components=50)"
   ]
  },
  {
   "cell_type": "code",
   "execution_count": 42,
   "id": "c0a59835-5a78-44f8-bbe6-334e83fd6f0a",
   "metadata": {},
   "outputs": [],
   "source": [
    "X_train_pca = pd.DataFrame(pca_fix.fit_transform(X_train_rs), columns=['PCA_'+str(i+1) for i in range(50)])\n",
    "X_test_pca = pd.DataFrame(pca_fix.transform(X_test_rs), columns=['PCA_'+str(i+1) for i in range(50)])"
   ]
  },
  {
   "cell_type": "markdown",
   "id": "5b20943a-2fe3-47b4-be5b-57360eed3775",
   "metadata": {},
   "source": [
    "Bandingkan hasil pca dengan default"
   ]
  },
  {
   "cell_type": "code",
   "execution_count": 43,
   "id": "6394eeeb-aed1-4590-8c4a-d0c6c9b0c892",
   "metadata": {},
   "outputs": [],
   "source": [
    "xgb_pca = XGBClassifier(scale_pos_weight=5)"
   ]
  },
  {
   "cell_type": "code",
   "execution_count": 44,
   "id": "3f89b679-bc97-465b-bc83-6ae5b2763d6a",
   "metadata": {},
   "outputs": [
    {
     "name": "stdout",
     "output_type": "stream",
     "text": [
      "[11:30:25] WARNING: C:/Users/Administrator/workspace/xgboost-win64_release_1.5.1/src/learner.cc:1115: Starting in XGBoost 1.3.0, the default evaluation metric used with the objective 'binary:logistic' was changed from 'error' to 'logloss'. Explicitly set eval_metric if you'd like to restore the old behavior.\n"
     ]
    },
    {
     "name": "stderr",
     "output_type": "stream",
     "text": [
      "C:\\Users\\Asus\\anaconda3\\lib\\site-packages\\xgboost\\sklearn.py:1224: UserWarning: The use of label encoder in XGBClassifier is deprecated and will be removed in a future release. To remove this warning, do the following: 1) Pass option use_label_encoder=False when constructing XGBClassifier object; and 2) Encode your labels (y) as integers starting with 0, i.e. 0, 1, 2, ..., [num_class - 1].\n",
      "  warnings.warn(label_encoder_deprecation_msg, UserWarning)\n",
      "C:\\Users\\Asus\\anaconda3\\lib\\site-packages\\xgboost\\data.py:262: FutureWarning: pandas.Int64Index is deprecated and will be removed from pandas in a future version. Use pandas.Index with the appropriate dtype instead.\n",
      "  elif isinstance(data.columns, (pd.Int64Index, pd.RangeIndex)):\n"
     ]
    },
    {
     "data": {
      "text/plain": [
       "XGBClassifier(base_score=0.5, booster='gbtree', colsample_bylevel=1,\n",
       "              colsample_bynode=1, colsample_bytree=1, enable_categorical=False,\n",
       "              gamma=0, gpu_id=-1, importance_type=None,\n",
       "              interaction_constraints='', learning_rate=0.300000012,\n",
       "              max_delta_step=0, max_depth=6, min_child_weight=1, missing=nan,\n",
       "              monotone_constraints='()', n_estimators=100, n_jobs=4,\n",
       "              num_parallel_tree=1, predictor='auto', random_state=0,\n",
       "              reg_alpha=0, reg_lambda=1, scale_pos_weight=5, subsample=1,\n",
       "              tree_method='exact', validate_parameters=1, verbosity=None)"
      ]
     },
     "execution_count": 44,
     "metadata": {},
     "output_type": "execute_result"
    }
   ],
   "source": [
    "xgb_pca.fit(X_train_pca, y_train)"
   ]
  },
  {
   "cell_type": "code",
   "execution_count": 45,
   "id": "421fd726-ece9-4826-89f5-867afb005901",
   "metadata": {},
   "outputs": [],
   "source": [
    "y_train_pred = xgb_pca.predict(X_train_pca)"
   ]
  },
  {
   "cell_type": "code",
   "execution_count": 46,
   "id": "e3cd08e6-752a-4abc-ac35-8d55cc7dc7a7",
   "metadata": {},
   "outputs": [],
   "source": [
    "y_test_pred = xgb_pca.predict(X_test_pca)"
   ]
  },
  {
   "cell_type": "code",
   "execution_count": 47,
   "id": "4da749af-08d3-44f7-87e6-a7228596093c",
   "metadata": {},
   "outputs": [],
   "source": [
    "from sklearn.metrics import classification_report"
   ]
  },
  {
   "cell_type": "code",
   "execution_count": 48,
   "id": "e9e2e976-e8db-4d78-ad62-400494a17f10",
   "metadata": {},
   "outputs": [
    {
     "name": "stdout",
     "output_type": "stream",
     "text": [
      "              precision    recall  f1-score   support\n",
      "\n",
      "         ALL       1.00      1.00      1.00        37\n",
      "         AML       1.00      1.00      1.00        20\n",
      "\n",
      "    accuracy                           1.00        57\n",
      "   macro avg       1.00      1.00      1.00        57\n",
      "weighted avg       1.00      1.00      1.00        57\n",
      "\n"
     ]
    }
   ],
   "source": [
    "print(classification_report(y_train, y_train_pred))"
   ]
  },
  {
   "cell_type": "code",
   "execution_count": 49,
   "id": "ff5f8dfe-1e50-4c28-b58f-8ee41f24de6f",
   "metadata": {},
   "outputs": [
    {
     "name": "stdout",
     "output_type": "stream",
     "text": [
      "              precision    recall  f1-score   support\n",
      "\n",
      "         ALL       0.80      0.80      0.80        10\n",
      "         AML       0.60      0.60      0.60         5\n",
      "\n",
      "    accuracy                           0.73        15\n",
      "   macro avg       0.70      0.70      0.70        15\n",
      "weighted avg       0.73      0.73      0.73        15\n",
      "\n"
     ]
    }
   ],
   "source": [
    "print(classification_report(y_test, y_test_pred))"
   ]
  },
  {
   "cell_type": "markdown",
   "id": "27840bfd-65b0-4e9c-851e-bd6a1c021c7f",
   "metadata": {},
   "source": [
    "PCA dan Non-PCA/Default:\n",
    "\n",
    "Hasil default lebih baik, berarti terdapat informasi genes yang penting dan tidak bisa diwakilkan dengan reduce features"
   ]
  },
  {
   "cell_type": "markdown",
   "id": "4b965982-5e2c-4c86-bbda-4cfac849b6bb",
   "metadata": {},
   "source": [
    "Selanjutnya tuning hyperparameter dari default"
   ]
  },
  {
   "cell_type": "markdown",
   "id": "d4e2d55b-7cc6-4f8e-a1ff-465d55bac9b2",
   "metadata": {},
   "source": [
    "# Set Hyperparameters"
   ]
  },
  {
   "cell_type": "code",
   "execution_count": 50,
   "id": "d7ad5aec-2a58-4bbb-a523-f62812af163f",
   "metadata": {},
   "outputs": [],
   "source": [
    "from sklearn.model_selection import cross_validate\n",
    "from sklearn.metrics import make_scorer, f1_score"
   ]
  },
  {
   "cell_type": "code",
   "execution_count": 51,
   "id": "1f11a960-dc40-4cec-9987-a6fd123a8925",
   "metadata": {},
   "outputs": [],
   "source": [
    "from sklearn.preprocessing import LabelEncoder"
   ]
  },
  {
   "cell_type": "code",
   "execution_count": 52,
   "id": "56f4b974-fb63-4f7a-8fa5-1f338d5faab5",
   "metadata": {},
   "outputs": [],
   "source": [
    "le = LabelEncoder()"
   ]
  },
  {
   "cell_type": "code",
   "execution_count": 53,
   "id": "73e6339d-e2dc-4b15-bd82-040c073d704d",
   "metadata": {},
   "outputs": [],
   "source": [
    "y_train_le = le.fit_transform(y_train)\n",
    "y_test_le = le.transform(y_test)"
   ]
  },
  {
   "cell_type": "code",
   "execution_count": 54,
   "id": "1f09438c-1459-4083-ac78-811a9b35ec07",
   "metadata": {},
   "outputs": [],
   "source": [
    "import warnings\n",
    "warnings.filterwarnings(\"ignore\")"
   ]
  },
  {
   "cell_type": "code",
   "execution_count": 55,
   "id": "86b18dac-1bbb-46c1-bed2-0684d55eb4eb",
   "metadata": {},
   "outputs": [
    {
     "data": {
      "image/png": "[encoded data removed]",
      "text/plain": [
       "<Figure size 432x288 with 1 Axes>"
      ]
     },
     "metadata": {
      "needs_background": "light"
     },
     "output_type": "display_data"
    }
   ],
   "source": [
    "list_checks = np.arange(0,20,5)\n",
    "check = []\n",
    "train_scores = []\n",
    "test_scores = []\n",
    "for x in list_checks:\n",
    "    result = cross_validate(XGBClassifier(verbosity=0, scale_pos_weight=x, use_label_encoder=False)\n",
    "                           ,X_train_rs\n",
    "                           ,y_train_le\n",
    "                           ,return_train_score=True\n",
    "                           ,cv=4\n",
    "                           ,scoring=make_scorer(f1_score,pos_label=1))\n",
    "    result = pd.DataFrame(result)\n",
    "    #memasukan input dan hasil scoring\n",
    "    check.append(x)\n",
    "    train_scores.append(result.train_score.mean())\n",
    "    test_scores.append(result.test_score.mean())\n",
    "#grafik train dan test scores\n",
    "sns.lineplot(x=check,y=train_scores)\n",
    "sns.lineplot(x=check,y=test_scores)\n",
    "plt.legend(['train','test'])\n",
    "plt.show()"
   ]
  },
  {
   "cell_type": "code",
   "execution_count": 56,
   "id": "34647ceb-748f-4c4b-b6a6-8527baed28f1",
   "metadata": {},
   "outputs": [
    {
     "data": {
      "image/png": "[encoded data removed]",
      "text/plain": [
       "<Figure size 432x288 with 1 Axes>"
      ]
     },
     "metadata": {
      "needs_background": "light"
     },
     "output_type": "display_data"
    }
   ],
   "source": [
    "list_checks = np.arange(0,100,5)\n",
    "check = []\n",
    "train_scores = []\n",
    "test_scores = []\n",
    "for x in list_checks:\n",
    "    result = cross_validate(XGBClassifier(n_estimators=x, verbosity=0, scale_pos_weight=5, use_label_encoder=False)\n",
    "                           ,X_train_rs\n",
    "                           ,y_train_le\n",
    "                           ,return_train_score=True\n",
    "                           ,cv=4\n",
    "                           ,scoring=make_scorer(f1_score,pos_label=1))\n",
    "    result = pd.DataFrame(result)\n",
    "    #memasukan input dan hasil scoring\n",
    "    check.append(x)\n",
    "    train_scores.append(result.train_score.mean())\n",
    "    test_scores.append(result.test_score.mean())\n",
    "#grafik train dan test scores\n",
    "sns.lineplot(x=check,y=train_scores)\n",
    "sns.lineplot(x=check,y=test_scores)\n",
    "plt.legend(['train','test'])\n",
    "plt.show()"
   ]
  },
  {
   "cell_type": "code",
   "execution_count": 57,
   "id": "6356be05-7114-4698-8b24-0eeade547d0f",
   "metadata": {},
   "outputs": [
    {
     "data": {
      "image/png": "[encoded data removed]",
      "text/plain": [
       "<Figure size 432x288 with 1 Axes>"
      ]
     },
     "metadata": {
      "needs_background": "light"
     },
     "output_type": "display_data"
    }
   ],
   "source": [
    "list_checks = np.arange(0.1,1,0.1)\n",
    "check = []\n",
    "train_scores = []\n",
    "test_scores = []\n",
    "for x in list_checks:\n",
    "    result = cross_validate(XGBClassifier(learning_rate=x, \n",
    "                                          n_estimators=10, \n",
    "                                          verbosity=0, \n",
    "                                          scale_pos_weight=5, \n",
    "                                          use_label_encoder=False)\n",
    "                           ,X_train_rs\n",
    "                           ,y_train_le\n",
    "                           ,return_train_score=True\n",
    "                           ,cv=4\n",
    "                           ,scoring=make_scorer(f1_score,pos_label=1))\n",
    "    result = pd.DataFrame(result)\n",
    "    #memasukan input dan hasil scoring\n",
    "    check.append(x)\n",
    "    train_scores.append(result.train_score.mean())\n",
    "    test_scores.append(result.test_score.mean())\n",
    "#grafik train dan test scores\n",
    "sns.lineplot(x=check,y=train_scores)\n",
    "sns.lineplot(x=check,y=test_scores)\n",
    "plt.legend(['train','test'])\n",
    "plt.show()"
   ]
  },
  {
   "cell_type": "code",
   "execution_count": 58,
   "id": "442df4ac-ffcb-45bb-8b35-2d6a832351c8",
   "metadata": {},
   "outputs": [
    {
     "data": {
      "image/png": "[encoded data removed]",
      "text/plain": [
       "<Figure size 432x288 with 1 Axes>"
      ]
     },
     "metadata": {
      "needs_background": "light"
     },
     "output_type": "display_data"
    }
   ],
   "source": [
    "list_checks = np.arange(1,10,1)\n",
    "check = []\n",
    "train_scores = []\n",
    "test_scores = []\n",
    "for x in list_checks:\n",
    "    result = cross_validate(XGBClassifier(gamma=x,\n",
    "                                          learning_rate=0.5, \n",
    "                                          n_estimators=10, \n",
    "                                          verbosity=0, \n",
    "                                          scale_pos_weight=5, \n",
    "                                          use_label_encoder=False)\n",
    "                           ,X_train_rs\n",
    "                           ,y_train_le\n",
    "                           ,return_train_score=True\n",
    "                           ,cv=4\n",
    "                           ,scoring=make_scorer(f1_score,pos_label=1))\n",
    "    result = pd.DataFrame(result)\n",
    "    #memasukan input dan hasil scoring\n",
    "    check.append(x)\n",
    "    train_scores.append(result.train_score.mean())\n",
    "    test_scores.append(result.test_score.mean())\n",
    "#grafik train dan test scores\n",
    "sns.lineplot(x=check,y=train_scores)\n",
    "sns.lineplot(x=check,y=test_scores)\n",
    "plt.legend(['train','test'])\n",
    "plt.show()"
   ]
  },
  {
   "cell_type": "code",
   "execution_count": 59,
   "id": "8e7bd7df-b33b-4b3e-a70f-bb97bc3c0984",
   "metadata": {},
   "outputs": [
    {
     "data": {
      "image/png": "[encoded data removed]",
      "text/plain": [
       "<Figure size 432x288 with 1 Axes>"
      ]
     },
     "metadata": {
      "needs_background": "light"
     },
     "output_type": "display_data"
    }
   ],
   "source": [
    "list_checks = np.arange(0.5,10,0.5)\n",
    "check = []\n",
    "train_scores = []\n",
    "test_scores = []\n",
    "for x in list_checks:\n",
    "    result = cross_validate(XGBClassifier(min_child_weight=x,\n",
    "                                          gamma=2,\n",
    "                                          learning_rate=0.5, \n",
    "                                          n_estimators=10, \n",
    "                                          verbosity=0, \n",
    "                                          scale_pos_weight=5, \n",
    "                                          use_label_encoder=False)\n",
    "                           ,X_train_rs\n",
    "                           ,y_train_le\n",
    "                           ,return_train_score=True\n",
    "                           ,cv=4\n",
    "                           ,scoring=make_scorer(f1_score,pos_label=1))\n",
    "    result = pd.DataFrame(result)\n",
    "    #memasukan input dan hasil scoring\n",
    "    check.append(x)\n",
    "    train_scores.append(result.train_score.mean())\n",
    "    test_scores.append(result.test_score.mean())\n",
    "#grafik train dan test scores\n",
    "sns.lineplot(x=check,y=train_scores)\n",
    "sns.lineplot(x=check,y=test_scores)\n",
    "plt.legend(['train','test'])\n",
    "plt.show()"
   ]
  },
  {
   "cell_type": "code",
   "execution_count": 60,
   "id": "08716473-1e28-4eae-8888-9ec2ffd980e2",
   "metadata": {},
   "outputs": [
    {
     "data": {
      "text/plain": [
       "array([0.5, 1. , 1.5, 2. , 2.5, 3. , 3.5, 4. , 4.5, 5. , 5.5, 6. , 6.5,\n",
       "       7. , 7.5, 8. , 8.5, 9. , 9.5])"
      ]
     },
     "execution_count": 60,
     "metadata": {},
     "output_type": "execute_result"
    }
   ],
   "source": [
    "np.arange(0.5,10,0.5)"
   ]
  },
  {
   "cell_type": "code",
   "execution_count": 61,
   "id": "3e2ca986-9869-48c2-b9b9-a8fdf588128d",
   "metadata": {},
   "outputs": [],
   "source": [
    "xgb_tuning = XGBClassifier(min_child_weight=2.5,\n",
    "                           gamma=2,\n",
    "                           learning_rate=0.5, \n",
    "                           n_estimators=10, \n",
    "                           verbosity=0, \n",
    "                           scale_pos_weight=5, \n",
    "                           use_label_encoder=False)"
   ]
  },
  {
   "cell_type": "code",
   "execution_count": 62,
   "id": "f5fb8703-7fab-451b-8025-1ee45c6868db",
   "metadata": {},
   "outputs": [
    {
     "data": {
      "text/plain": [
       "XGBClassifier(base_score=0.5, booster='gbtree', colsample_bylevel=1,\n",
       "              colsample_bynode=1, colsample_bytree=1, enable_categorical=False,\n",
       "              gamma=2, gpu_id=-1, importance_type=None,\n",
       "              interaction_constraints='', learning_rate=0.5, max_delta_step=0,\n",
       "              max_depth=6, min_child_weight=2.5, missing=nan,\n",
       "              monotone_constraints='()', n_estimators=10, n_jobs=4,\n",
       "              num_parallel_tree=1, predictor='auto', random_state=0,\n",
       "              reg_alpha=0, reg_lambda=1, scale_pos_weight=5, subsample=1,\n",
       "              tree_method='exact', use_label_encoder=False,\n",
       "              validate_parameters=1, verbosity=0)"
      ]
     },
     "execution_count": 62,
     "metadata": {},
     "output_type": "execute_result"
    }
   ],
   "source": [
    "xgb_tuning.fit(X_train_rs, y_train_le)"
   ]
  },
  {
   "cell_type": "code",
   "execution_count": 63,
   "id": "11678d75-8317-4a8e-bda4-98427530d85c",
   "metadata": {},
   "outputs": [],
   "source": [
    "y_train_pred = xgb_tuning.predict(X_train_rs)"
   ]
  },
  {
   "cell_type": "code",
   "execution_count": 64,
   "id": "063d042a-debb-4a0b-8fb2-313d50e4d821",
   "metadata": {},
   "outputs": [],
   "source": [
    "y_test_pred = xgb_tuning.predict(X_test_rs)"
   ]
  },
  {
   "cell_type": "code",
   "execution_count": 65,
   "id": "1a3b4c1e-752a-4786-a758-69380c9f0e3d",
   "metadata": {},
   "outputs": [],
   "source": [
    "from sklearn.metrics import classification_report"
   ]
  },
  {
   "cell_type": "code",
   "execution_count": 66,
   "id": "ae305192-4aee-4aa5-b4b3-35d9e946766e",
   "metadata": {},
   "outputs": [
    {
     "name": "stdout",
     "output_type": "stream",
     "text": [
      "              precision    recall  f1-score   support\n",
      "\n",
      "           0       1.00      1.00      1.00        37\n",
      "           1       1.00      1.00      1.00        20\n",
      "\n",
      "    accuracy                           1.00        57\n",
      "   macro avg       1.00      1.00      1.00        57\n",
      "weighted avg       1.00      1.00      1.00        57\n",
      "\n"
     ]
    }
   ],
   "source": [
    "print(classification_report(y_train_le, y_train_pred))"
   ]
  },
  {
   "cell_type": "code",
   "execution_count": 67,
   "id": "e53bf620-c2d5-4032-9454-27504c6bf6c0",
   "metadata": {},
   "outputs": [
    {
     "name": "stdout",
     "output_type": "stream",
     "text": [
      "              precision    recall  f1-score   support\n",
      "\n",
      "           0       1.00      0.80      0.89        10\n",
      "           1       0.71      1.00      0.83         5\n",
      "\n",
      "    accuracy                           0.87        15\n",
      "   macro avg       0.86      0.90      0.86        15\n",
      "weighted avg       0.90      0.87      0.87        15\n",
      "\n"
     ]
    }
   ],
   "source": [
    "print(classification_report(y_test_le, y_test_pred))"
   ]
  },
  {
   "cell_type": "markdown",
   "id": "876c93b1-9bf3-4b57-9bad-d39585937a96",
   "metadata": {},
   "source": [
    "Lebih baik default dibandingkan tunning, sehingga metode yang terbaik saat ini adalah data default dan XGBoost tanpa tunning."
   ]
  },
  {
   "cell_type": "code",
   "execution_count": null,
   "id": "1d843835-2b7e-4d30-b592-e0f667ad3d1d",
   "metadata": {},
   "outputs": [],
   "source": []
  }
 ],
 "metadata": {
  "kernelspec": {
   "display_name": "Python 3",
   "language": "python",
   "name": "python3"
  },
  "language_info": {
   "codemirror_mode": {
    "name": "ipython",
    "version": 3
   },
   "file_extension": ".py",
   "mimetype": "text/x-python",
   "name": "python",
   "nbconvert_exporter": "python",
   "pygments_lexer": "ipython3",
   "version": "3.8.8"
  }
 },
 "nbformat": 4,
 "nbformat_minor": 5
}
